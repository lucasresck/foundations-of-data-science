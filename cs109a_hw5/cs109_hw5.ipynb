{
 "cells": [
  {
   "cell_type": "markdown",
   "metadata": {},
   "source": [
    "# <img style=\"float: left; padding-right: 10px; width: 45px\" src=\"style/iacs.png\"> S-109A Introduction to Data Science: \n",
    "\n",
    "## Homework 5: Logistic Regression, High Dimensionality and PCA, LDA/QDA\n",
    "\n",
    "\n",
    "<hr style=\"height:2pt\">"
   ]
  },
  {
   "cell_type": "markdown",
   "metadata": {},
   "source": [
    "### INSTRUCTIONS\n",
    "\n",
    "- To submit your assignment follow the instructions given in canvas.\n",
    "- Restart the kernel and run the whole notebook again before you submit. \n",
    "- If you submit individually and you have worked with someone, please include the name of your [one] partner below. \n",
    "\n",
    "Names of people you have worked with goes here: "
   ]
  },
  {
   "cell_type": "markdown",
   "metadata": {},
   "source": [
    "<hr style=\"height:2pt\">"
   ]
  },
  {
   "cell_type": "code",
   "execution_count": 76,
   "metadata": {
    "jupyter": {
     "outputs_hidden": true
    }
   },
   "outputs": [],
   "source": [
    "import numpy as np\n",
    "import pandas as pd\n",
    "\n",
    "import statsmodels.api as sm\n",
    "from statsmodels.api import OLS\n",
    "\n",
    "from sklearn.decomposition import PCA\n",
    "from sklearn.linear_model import LogisticRegression\n",
    "from sklearn.linear_model import LogisticRegressionCV\n",
    "from sklearn.discriminant_analysis import LinearDiscriminantAnalysis\n",
    "from sklearn.discriminant_analysis import QuadraticDiscriminantAnalysis\n",
    "from sklearn.preprocessing import PolynomialFeatures\n",
    "from sklearn.neighbors import KNeighborsClassifier\n",
    "from sklearn.model_selection import cross_val_score\n",
    "from sklearn.metrics import accuracy_score\n",
    "from sklearn.model_selection import KFold\n",
    "\n",
    "import math\n",
    "from scipy.special import gamma\n",
    "\n",
    "import matplotlib\n",
    "import matplotlib.pyplot as plt\n",
    "%matplotlib inline\n",
    "\n",
    "import seaborn as sns\n",
    "sns.set()\n",
    "\n",
    "alpha = 0.5"
   ]
  },
  {
   "cell_type": "markdown",
   "metadata": {},
   "source": [
    "## Cancer Classification from Gene Expressions\n",
    "\n",
    "In this problem, we will build a classification model to distinguish between two related classes of cancer, acute lymphoblastic leukemia (ALL) and acute myeloid leukemia (AML), using gene expression measurements. The data set is provided in the file `dataset_hw5_1.csv`. Each row in this file corresponds to a tumor tissue sample from a patient with one of the two forms of Leukemia. The first column contains the cancer type, with 0 indicating the ALL class and 1 indicating the AML class. Columns 2-7130 contain expression levels of 7129 genes recorded from each tissue sample. \n",
    "\n",
    "In the following questions, we will use linear and logistic regression to build a classification models for this data set. We will also use Principal Components Analysis (PCA) to visualize the data and to reduce its dimensions. \n",
    "\n"
   ]
  },
  {
   "cell_type": "markdown",
   "metadata": {},
   "source": [
    "## Question 1: Data Exploration\n",
    "\n",
    "1. First step is to  split  the observations into an approximate 50-50 train-test split.  Below is some code to do this for you (we want to make sure everyone has the same splits).\n",
    "\n",
    "2. Take a peek at your training set: you should notice the severe differences in the measurements from one gene to the next (some are negative, some hover around zero, and some are well into the thousands).  To account for these differences in scale and variability, normalize each predictor to vary between 0 and 1.\n",
    "\n",
    "3. Notice that the results training set contains more predictors than observations. Do you foresee a problem in fitting a classification model to such a data set?\n",
    "\n",
    "4. Lets explore a few of the genes and see how well they discriminate between cancer classes. Create a single figure with four subplots arranged in a 2x2 grid. Consider the following four genes: `D29963_at`, `M23161_at`, `hum_alu_at`, and `AFFX-PheX-5_at`. For each gene overlay two histograms of the gene expression values on one of the subplots, one histogram for each cancer type. Does it appear that any of these genes discriminate between the two classes well? How are you able to tell?\n",
    "\n",
    "5. Since our data has dimensions that are not easily visualizable, we want to reduce the dimensionality of the data to make it easier to visualize. Using PCA, find the top two principal components for the gene expression data. Generate a scatter plot using these principal components, highlighting the two cancer types in different colors. How well do the top two principal components discriminate between the two classes? How much of the variance within the data do these two principal components explain?"
   ]
  },
  {
   "cell_type": "markdown",
   "metadata": {},
   "source": [
    "#### Answers:\n",
    "**1.1:** First step is to split the observations into an approximate 50-50 train-test split. Below is some code to do this for you (we want to make sure everyone has the same splits)."
   ]
  },
  {
   "cell_type": "code",
   "execution_count": 103,
   "metadata": {
    "jupyter": {
     "outputs_hidden": true
    }
   },
   "outputs": [],
   "source": [
    "np.random.seed(9002)\n",
    "df = pd.read_csv('data/dataset_hw5_1.csv')\n",
    "msk = np.random.rand(len(df)) < 0.5\n",
    "data_train = df[msk]\n",
    "data_test = df[~msk]"
   ]
  },
  {
   "cell_type": "markdown",
   "metadata": {},
   "source": [
    "**1.2:** Take a peek at your training set: you should notice the severe differences in the measurements from one gene to the next (some are negative, some hover around zero, and some are well into the thousands).  To account for these differences in scale and variability, normalize each predictor to vary between 0 and 1.\n"
   ]
  },
  {
   "cell_type": "code",
   "execution_count": 104,
   "metadata": {},
   "outputs": [
    {
     "data": {
      "text/html": [
       "<div>\n",
       "<style scoped>\n",
       "    .dataframe tbody tr th:only-of-type {\n",
       "        vertical-align: middle;\n",
       "    }\n",
       "\n",
       "    .dataframe tbody tr th {\n",
       "        vertical-align: top;\n",
       "    }\n",
       "\n",
       "    .dataframe thead th {\n",
       "        text-align: right;\n",
       "    }\n",
       "</style>\n",
       "<table border=\"1\" class=\"dataframe\">\n",
       "  <thead>\n",
       "    <tr style=\"text-align: right;\">\n",
       "      <th></th>\n",
       "      <th>Cancer_type</th>\n",
       "      <th>AFFX-BioB-5_at</th>\n",
       "      <th>AFFX-BioB-M_at</th>\n",
       "      <th>AFFX-BioB-3_at</th>\n",
       "      <th>AFFX-BioC-5_at</th>\n",
       "      <th>AFFX-BioC-3_at</th>\n",
       "      <th>AFFX-BioDn-5_at</th>\n",
       "      <th>AFFX-BioDn-3_at</th>\n",
       "      <th>AFFX-CreX-5_at</th>\n",
       "      <th>AFFX-CreX-3_at</th>\n",
       "      <th>...</th>\n",
       "      <th>U48730_at</th>\n",
       "      <th>U58516_at</th>\n",
       "      <th>U73738_at</th>\n",
       "      <th>X06956_at</th>\n",
       "      <th>X16699_at</th>\n",
       "      <th>X83863_at</th>\n",
       "      <th>Z17240_at</th>\n",
       "      <th>L49218_f_at</th>\n",
       "      <th>M71243_f_at</th>\n",
       "      <th>Z78285_f_at</th>\n",
       "    </tr>\n",
       "  </thead>\n",
       "  <tbody>\n",
       "    <tr>\n",
       "      <th>61</th>\n",
       "      <td>1</td>\n",
       "      <td>-112</td>\n",
       "      <td>-185</td>\n",
       "      <td>24</td>\n",
       "      <td>170</td>\n",
       "      <td>-197</td>\n",
       "      <td>-400</td>\n",
       "      <td>-215</td>\n",
       "      <td>-227</td>\n",
       "      <td>100</td>\n",
       "      <td>...</td>\n",
       "      <td>146</td>\n",
       "      <td>621</td>\n",
       "      <td>34</td>\n",
       "      <td>295</td>\n",
       "      <td>4</td>\n",
       "      <td>1110</td>\n",
       "      <td>174</td>\n",
       "      <td>8</td>\n",
       "      <td>533</td>\n",
       "      <td>-4</td>\n",
       "    </tr>\n",
       "    <tr>\n",
       "      <th>58</th>\n",
       "      <td>0</td>\n",
       "      <td>-12</td>\n",
       "      <td>-172</td>\n",
       "      <td>12</td>\n",
       "      <td>172</td>\n",
       "      <td>-137</td>\n",
       "      <td>-205</td>\n",
       "      <td>358</td>\n",
       "      <td>-104</td>\n",
       "      <td>-25</td>\n",
       "      <td>...</td>\n",
       "      <td>195</td>\n",
       "      <td>922</td>\n",
       "      <td>53</td>\n",
       "      <td>302</td>\n",
       "      <td>-78</td>\n",
       "      <td>673</td>\n",
       "      <td>208</td>\n",
       "      <td>-68</td>\n",
       "      <td>226</td>\n",
       "      <td>78</td>\n",
       "    </tr>\n",
       "    <tr>\n",
       "      <th>28</th>\n",
       "      <td>1</td>\n",
       "      <td>7</td>\n",
       "      <td>-100</td>\n",
       "      <td>-57</td>\n",
       "      <td>132</td>\n",
       "      <td>-377</td>\n",
       "      <td>-478</td>\n",
       "      <td>-351</td>\n",
       "      <td>-290</td>\n",
       "      <td>283</td>\n",
       "      <td>...</td>\n",
       "      <td>93</td>\n",
       "      <td>336</td>\n",
       "      <td>-45</td>\n",
       "      <td>170</td>\n",
       "      <td>12</td>\n",
       "      <td>752</td>\n",
       "      <td>295</td>\n",
       "      <td>28</td>\n",
       "      <td>1558</td>\n",
       "      <td>-67</td>\n",
       "    </tr>\n",
       "    <tr>\n",
       "      <th>65</th>\n",
       "      <td>1</td>\n",
       "      <td>-157</td>\n",
       "      <td>-370</td>\n",
       "      <td>-77</td>\n",
       "      <td>340</td>\n",
       "      <td>-438</td>\n",
       "      <td>-364</td>\n",
       "      <td>-216</td>\n",
       "      <td>-210</td>\n",
       "      <td>-86</td>\n",
       "      <td>...</td>\n",
       "      <td>318</td>\n",
       "      <td>408</td>\n",
       "      <td>-275</td>\n",
       "      <td>352</td>\n",
       "      <td>18</td>\n",
       "      <td>1372</td>\n",
       "      <td>642</td>\n",
       "      <td>-9</td>\n",
       "      <td>608</td>\n",
       "      <td>-71</td>\n",
       "    </tr>\n",
       "    <tr>\n",
       "      <th>69</th>\n",
       "      <td>1</td>\n",
       "      <td>-58</td>\n",
       "      <td>-217</td>\n",
       "      <td>63</td>\n",
       "      <td>95</td>\n",
       "      <td>-191</td>\n",
       "      <td>-230</td>\n",
       "      <td>-86</td>\n",
       "      <td>-152</td>\n",
       "      <td>-6</td>\n",
       "      <td>...</td>\n",
       "      <td>63</td>\n",
       "      <td>297</td>\n",
       "      <td>36</td>\n",
       "      <td>358</td>\n",
       "      <td>2</td>\n",
       "      <td>423</td>\n",
       "      <td>41</td>\n",
       "      <td>0</td>\n",
       "      <td>1777</td>\n",
       "      <td>-49</td>\n",
       "    </tr>\n",
       "  </tbody>\n",
       "</table>\n",
       "<p>5 rows × 7130 columns</p>\n",
       "</div>"
      ],
      "text/plain": [
       "    Cancer_type  AFFX-BioB-5_at  AFFX-BioB-M_at  AFFX-BioB-3_at  \\\n",
       "61            1            -112            -185              24   \n",
       "58            0             -12            -172              12   \n",
       "28            1               7            -100             -57   \n",
       "65            1            -157            -370             -77   \n",
       "69            1             -58            -217              63   \n",
       "\n",
       "    AFFX-BioC-5_at  AFFX-BioC-3_at  AFFX-BioDn-5_at  AFFX-BioDn-3_at  \\\n",
       "61             170            -197             -400             -215   \n",
       "58             172            -137             -205              358   \n",
       "28             132            -377             -478             -351   \n",
       "65             340            -438             -364             -216   \n",
       "69              95            -191             -230              -86   \n",
       "\n",
       "    AFFX-CreX-5_at  AFFX-CreX-3_at  ...  U48730_at  U58516_at  U73738_at  \\\n",
       "61            -227             100  ...        146        621         34   \n",
       "58            -104             -25  ...        195        922         53   \n",
       "28            -290             283  ...         93        336        -45   \n",
       "65            -210             -86  ...        318        408       -275   \n",
       "69            -152              -6  ...         63        297         36   \n",
       "\n",
       "    X06956_at  X16699_at  X83863_at  Z17240_at  L49218_f_at  M71243_f_at  \\\n",
       "61        295          4       1110        174            8          533   \n",
       "58        302        -78        673        208          -68          226   \n",
       "28        170         12        752        295           28         1558   \n",
       "65        352         18       1372        642           -9          608   \n",
       "69        358          2        423         41            0         1777   \n",
       "\n",
       "    Z78285_f_at  \n",
       "61           -4  \n",
       "58           78  \n",
       "28          -67  \n",
       "65          -71  \n",
       "69          -49  \n",
       "\n",
       "[5 rows x 7130 columns]"
      ]
     },
     "execution_count": 104,
     "metadata": {},
     "output_type": "execute_result"
    }
   ],
   "source": [
    "data_train.sample(5)"
   ]
  },
  {
   "cell_type": "code",
   "execution_count": 105,
   "metadata": {},
   "outputs": [
    {
     "data": {
      "text/html": [
       "<div>\n",
       "<style scoped>\n",
       "    .dataframe tbody tr th:only-of-type {\n",
       "        vertical-align: middle;\n",
       "    }\n",
       "\n",
       "    .dataframe tbody tr th {\n",
       "        vertical-align: top;\n",
       "    }\n",
       "\n",
       "    .dataframe thead th {\n",
       "        text-align: right;\n",
       "    }\n",
       "</style>\n",
       "<table border=\"1\" class=\"dataframe\">\n",
       "  <thead>\n",
       "    <tr style=\"text-align: right;\">\n",
       "      <th></th>\n",
       "      <th>Cancer_type</th>\n",
       "      <th>AFFX-BioB-5_at</th>\n",
       "      <th>AFFX-BioB-M_at</th>\n",
       "      <th>AFFX-BioB-3_at</th>\n",
       "      <th>AFFX-BioC-5_at</th>\n",
       "      <th>AFFX-BioC-3_at</th>\n",
       "      <th>AFFX-BioDn-5_at</th>\n",
       "      <th>AFFX-BioDn-3_at</th>\n",
       "      <th>AFFX-CreX-5_at</th>\n",
       "      <th>AFFX-CreX-3_at</th>\n",
       "      <th>...</th>\n",
       "      <th>U48730_at</th>\n",
       "      <th>U58516_at</th>\n",
       "      <th>U73738_at</th>\n",
       "      <th>X06956_at</th>\n",
       "      <th>X16699_at</th>\n",
       "      <th>X83863_at</th>\n",
       "      <th>Z17240_at</th>\n",
       "      <th>L49218_f_at</th>\n",
       "      <th>M71243_f_at</th>\n",
       "      <th>Z78285_f_at</th>\n",
       "    </tr>\n",
       "  </thead>\n",
       "  <tbody>\n",
       "    <tr>\n",
       "      <th>count</th>\n",
       "      <td>40.00000</td>\n",
       "      <td>40.000000</td>\n",
       "      <td>40.000000</td>\n",
       "      <td>40.000000</td>\n",
       "      <td>40.000000</td>\n",
       "      <td>40.000000</td>\n",
       "      <td>40.000000</td>\n",
       "      <td>40.000000</td>\n",
       "      <td>40.00000</td>\n",
       "      <td>40.000000</td>\n",
       "      <td>...</td>\n",
       "      <td>40.000000</td>\n",
       "      <td>40.000000</td>\n",
       "      <td>40.000000</td>\n",
       "      <td>40.000000</td>\n",
       "      <td>40.000000</td>\n",
       "      <td>40.000000</td>\n",
       "      <td>40.000000</td>\n",
       "      <td>40.000000</td>\n",
       "      <td>40.000000</td>\n",
       "      <td>40.000000</td>\n",
       "    </tr>\n",
       "    <tr>\n",
       "      <th>mean</th>\n",
       "      <td>0.37500</td>\n",
       "      <td>-116.125000</td>\n",
       "      <td>-163.350000</td>\n",
       "      <td>-9.125000</td>\n",
       "      <td>209.075000</td>\n",
       "      <td>-250.325000</td>\n",
       "      <td>-379.925000</td>\n",
       "      <td>-118.775000</td>\n",
       "      <td>-195.42500</td>\n",
       "      <td>82.850000</td>\n",
       "      <td>...</td>\n",
       "      <td>185.175000</td>\n",
       "      <td>641.250000</td>\n",
       "      <td>-14.800000</td>\n",
       "      <td>419.175000</td>\n",
       "      <td>-31.400000</td>\n",
       "      <td>818.875000</td>\n",
       "      <td>283.850000</td>\n",
       "      <td>11.425000</td>\n",
       "      <td>491.450000</td>\n",
       "      <td>-32.750000</td>\n",
       "    </tr>\n",
       "    <tr>\n",
       "      <th>std</th>\n",
       "      <td>0.49029</td>\n",
       "      <td>102.783364</td>\n",
       "      <td>95.437871</td>\n",
       "      <td>101.998539</td>\n",
       "      <td>111.000205</td>\n",
       "      <td>107.218776</td>\n",
       "      <td>123.026449</td>\n",
       "      <td>304.307494</td>\n",
       "      <td>100.91654</td>\n",
       "      <td>99.683743</td>\n",
       "      <td>...</td>\n",
       "      <td>87.141173</td>\n",
       "      <td>305.573085</td>\n",
       "      <td>92.745088</td>\n",
       "      <td>394.131039</td>\n",
       "      <td>54.429818</td>\n",
       "      <td>458.186178</td>\n",
       "      <td>197.123227</td>\n",
       "      <td>36.221461</td>\n",
       "      <td>653.148075</td>\n",
       "      <td>37.159221</td>\n",
       "    </tr>\n",
       "    <tr>\n",
       "      <th>min</th>\n",
       "      <td>0.00000</td>\n",
       "      <td>-476.000000</td>\n",
       "      <td>-531.000000</td>\n",
       "      <td>-168.000000</td>\n",
       "      <td>-24.000000</td>\n",
       "      <td>-496.000000</td>\n",
       "      <td>-696.000000</td>\n",
       "      <td>-1038.000000</td>\n",
       "      <td>-452.00000</td>\n",
       "      <td>-148.000000</td>\n",
       "      <td>...</td>\n",
       "      <td>42.000000</td>\n",
       "      <td>91.000000</td>\n",
       "      <td>-295.000000</td>\n",
       "      <td>-24.000000</td>\n",
       "      <td>-220.000000</td>\n",
       "      <td>67.000000</td>\n",
       "      <td>-42.000000</td>\n",
       "      <td>-100.000000</td>\n",
       "      <td>-33.000000</td>\n",
       "      <td>-108.000000</td>\n",
       "    </tr>\n",
       "    <tr>\n",
       "      <th>25%</th>\n",
       "      <td>0.00000</td>\n",
       "      <td>-140.750000</td>\n",
       "      <td>-208.500000</td>\n",
       "      <td>-81.250000</td>\n",
       "      <td>124.250000</td>\n",
       "      <td>-316.500000</td>\n",
       "      <td>-461.750000</td>\n",
       "      <td>-269.250000</td>\n",
       "      <td>-238.50000</td>\n",
       "      <td>-0.250000</td>\n",
       "      <td>...</td>\n",
       "      <td>133.750000</td>\n",
       "      <td>424.500000</td>\n",
       "      <td>-57.250000</td>\n",
       "      <td>241.750000</td>\n",
       "      <td>-57.250000</td>\n",
       "      <td>540.000000</td>\n",
       "      <td>189.000000</td>\n",
       "      <td>-8.250000</td>\n",
       "      <td>151.000000</td>\n",
       "      <td>-62.750000</td>\n",
       "    </tr>\n",
       "    <tr>\n",
       "      <th>50%</th>\n",
       "      <td>0.00000</td>\n",
       "      <td>-109.000000</td>\n",
       "      <td>-150.000000</td>\n",
       "      <td>-29.000000</td>\n",
       "      <td>228.000000</td>\n",
       "      <td>-225.000000</td>\n",
       "      <td>-384.500000</td>\n",
       "      <td>-77.000000</td>\n",
       "      <td>-172.00000</td>\n",
       "      <td>99.000000</td>\n",
       "      <td>...</td>\n",
       "      <td>179.500000</td>\n",
       "      <td>619.000000</td>\n",
       "      <td>10.500000</td>\n",
       "      <td>343.000000</td>\n",
       "      <td>-21.000000</td>\n",
       "      <td>747.000000</td>\n",
       "      <td>282.000000</td>\n",
       "      <td>10.000000</td>\n",
       "      <td>242.000000</td>\n",
       "      <td>-30.500000</td>\n",
       "    </tr>\n",
       "    <tr>\n",
       "      <th>75%</th>\n",
       "      <td>1.00000</td>\n",
       "      <td>-64.750000</td>\n",
       "      <td>-99.500000</td>\n",
       "      <td>47.000000</td>\n",
       "      <td>303.750000</td>\n",
       "      <td>-178.750000</td>\n",
       "      <td>-286.250000</td>\n",
       "      <td>20.500000</td>\n",
       "      <td>-125.75000</td>\n",
       "      <td>164.500000</td>\n",
       "      <td>...</td>\n",
       "      <td>227.000000</td>\n",
       "      <td>728.000000</td>\n",
       "      <td>52.250000</td>\n",
       "      <td>475.750000</td>\n",
       "      <td>11.250000</td>\n",
       "      <td>1042.500000</td>\n",
       "      <td>351.750000</td>\n",
       "      <td>28.250000</td>\n",
       "      <td>536.000000</td>\n",
       "      <td>-12.750000</td>\n",
       "    </tr>\n",
       "    <tr>\n",
       "      <th>max</th>\n",
       "      <td>1.00000</td>\n",
       "      <td>86.000000</td>\n",
       "      <td>-20.000000</td>\n",
       "      <td>262.000000</td>\n",
       "      <td>431.000000</td>\n",
       "      <td>-32.000000</td>\n",
       "      <td>-122.000000</td>\n",
       "      <td>367.000000</td>\n",
       "      <td>-11.00000</td>\n",
       "      <td>283.000000</td>\n",
       "      <td>...</td>\n",
       "      <td>413.000000</td>\n",
       "      <td>1655.000000</td>\n",
       "      <td>132.000000</td>\n",
       "      <td>2527.000000</td>\n",
       "      <td>50.000000</td>\n",
       "      <td>2313.000000</td>\n",
       "      <td>1108.000000</td>\n",
       "      <td>81.000000</td>\n",
       "      <td>3192.000000</td>\n",
       "      <td>78.000000</td>\n",
       "    </tr>\n",
       "  </tbody>\n",
       "</table>\n",
       "<p>8 rows × 7130 columns</p>\n",
       "</div>"
      ],
      "text/plain": [
       "       Cancer_type  AFFX-BioB-5_at  AFFX-BioB-M_at  AFFX-BioB-3_at  \\\n",
       "count     40.00000       40.000000       40.000000       40.000000   \n",
       "mean       0.37500     -116.125000     -163.350000       -9.125000   \n",
       "std        0.49029      102.783364       95.437871      101.998539   \n",
       "min        0.00000     -476.000000     -531.000000     -168.000000   \n",
       "25%        0.00000     -140.750000     -208.500000      -81.250000   \n",
       "50%        0.00000     -109.000000     -150.000000      -29.000000   \n",
       "75%        1.00000      -64.750000      -99.500000       47.000000   \n",
       "max        1.00000       86.000000      -20.000000      262.000000   \n",
       "\n",
       "       AFFX-BioC-5_at  AFFX-BioC-3_at  AFFX-BioDn-5_at  AFFX-BioDn-3_at  \\\n",
       "count       40.000000       40.000000        40.000000        40.000000   \n",
       "mean       209.075000     -250.325000      -379.925000      -118.775000   \n",
       "std        111.000205      107.218776       123.026449       304.307494   \n",
       "min        -24.000000     -496.000000      -696.000000     -1038.000000   \n",
       "25%        124.250000     -316.500000      -461.750000      -269.250000   \n",
       "50%        228.000000     -225.000000      -384.500000       -77.000000   \n",
       "75%        303.750000     -178.750000      -286.250000        20.500000   \n",
       "max        431.000000      -32.000000      -122.000000       367.000000   \n",
       "\n",
       "       AFFX-CreX-5_at  AFFX-CreX-3_at  ...   U48730_at    U58516_at  \\\n",
       "count        40.00000       40.000000  ...   40.000000    40.000000   \n",
       "mean       -195.42500       82.850000  ...  185.175000   641.250000   \n",
       "std         100.91654       99.683743  ...   87.141173   305.573085   \n",
       "min        -452.00000     -148.000000  ...   42.000000    91.000000   \n",
       "25%        -238.50000       -0.250000  ...  133.750000   424.500000   \n",
       "50%        -172.00000       99.000000  ...  179.500000   619.000000   \n",
       "75%        -125.75000      164.500000  ...  227.000000   728.000000   \n",
       "max         -11.00000      283.000000  ...  413.000000  1655.000000   \n",
       "\n",
       "        U73738_at    X06956_at   X16699_at    X83863_at    Z17240_at  \\\n",
       "count   40.000000    40.000000   40.000000    40.000000    40.000000   \n",
       "mean   -14.800000   419.175000  -31.400000   818.875000   283.850000   \n",
       "std     92.745088   394.131039   54.429818   458.186178   197.123227   \n",
       "min   -295.000000   -24.000000 -220.000000    67.000000   -42.000000   \n",
       "25%    -57.250000   241.750000  -57.250000   540.000000   189.000000   \n",
       "50%     10.500000   343.000000  -21.000000   747.000000   282.000000   \n",
       "75%     52.250000   475.750000   11.250000  1042.500000   351.750000   \n",
       "max    132.000000  2527.000000   50.000000  2313.000000  1108.000000   \n",
       "\n",
       "       L49218_f_at  M71243_f_at  Z78285_f_at  \n",
       "count    40.000000    40.000000    40.000000  \n",
       "mean     11.425000   491.450000   -32.750000  \n",
       "std      36.221461   653.148075    37.159221  \n",
       "min    -100.000000   -33.000000  -108.000000  \n",
       "25%      -8.250000   151.000000   -62.750000  \n",
       "50%      10.000000   242.000000   -30.500000  \n",
       "75%      28.250000   536.000000   -12.750000  \n",
       "max      81.000000  3192.000000    78.000000  \n",
       "\n",
       "[8 rows x 7130 columns]"
      ]
     },
     "execution_count": 105,
     "metadata": {},
     "output_type": "execute_result"
    }
   ],
   "source": [
    "data_train.describe()"
   ]
  },
  {
   "cell_type": "code",
   "execution_count": 106,
   "metadata": {
    "jupyter": {
     "outputs_hidden": true
    }
   },
   "outputs": [
    {
     "name": "stderr",
     "output_type": "stream",
     "text": [
      "<ipython-input-106-cce88d357a77>:5: SettingWithCopyWarning: \n",
      "A value is trying to be set on a copy of a slice from a DataFrame.\n",
      "Try using .loc[row_indexer,col_indexer] = value instead\n",
      "\n",
      "See the caveats in the documentation: https://pandas.pydata.org/pandas-docs/stable/user_guide/indexing.html#returning-a-view-versus-a-copy\n",
      "  data_train[column] = data_train[column].apply(lambda x: (x-a)/(b-a))\n",
      "<ipython-input-106-cce88d357a77>:8: SettingWithCopyWarning: \n",
      "A value is trying to be set on a copy of a slice from a DataFrame.\n",
      "Try using .loc[row_indexer,col_indexer] = value instead\n",
      "\n",
      "See the caveats in the documentation: https://pandas.pydata.org/pandas-docs/stable/user_guide/indexing.html#returning-a-view-versus-a-copy\n",
      "  data_test[column] = data_test[column].apply(lambda x: (x-a)/(b-a))\n"
     ]
    }
   ],
   "source": [
    "for column in list(data_train.columns)[1:]:\n",
    "    series = data_train[column]\n",
    "    a = series.min()\n",
    "    b = series.max()\n",
    "    data_train[column] = data_train[column].apply(lambda x: (x-a)/(b-a))\n",
    "    \n",
    "    # Apply the same transformation to test data\n",
    "    data_test[column] = data_test[column].apply(lambda x: (x-a)/(b-a))\n",
    "    \n",
    "    # Do the same with the entire dataset (it will be used in question 1.5)\n",
    "    series = df[column]\n",
    "    a = series.min()\n",
    "    b = series.max()\n",
    "    df[column] = df[column].apply(lambda x: (x-a)/(b-a))"
   ]
  },
  {
   "cell_type": "code",
   "execution_count": 107,
   "metadata": {},
   "outputs": [
    {
     "data": {
      "text/html": [
       "<div>\n",
       "<style scoped>\n",
       "    .dataframe tbody tr th:only-of-type {\n",
       "        vertical-align: middle;\n",
       "    }\n",
       "\n",
       "    .dataframe tbody tr th {\n",
       "        vertical-align: top;\n",
       "    }\n",
       "\n",
       "    .dataframe thead th {\n",
       "        text-align: right;\n",
       "    }\n",
       "</style>\n",
       "<table border=\"1\" class=\"dataframe\">\n",
       "  <thead>\n",
       "    <tr style=\"text-align: right;\">\n",
       "      <th></th>\n",
       "      <th>Cancer_type</th>\n",
       "      <th>AFFX-BioB-5_at</th>\n",
       "      <th>AFFX-BioB-M_at</th>\n",
       "      <th>AFFX-BioB-3_at</th>\n",
       "      <th>AFFX-BioC-5_at</th>\n",
       "      <th>AFFX-BioC-3_at</th>\n",
       "      <th>AFFX-BioDn-5_at</th>\n",
       "      <th>AFFX-BioDn-3_at</th>\n",
       "      <th>AFFX-CreX-5_at</th>\n",
       "      <th>AFFX-CreX-3_at</th>\n",
       "      <th>...</th>\n",
       "      <th>U48730_at</th>\n",
       "      <th>U58516_at</th>\n",
       "      <th>U73738_at</th>\n",
       "      <th>X06956_at</th>\n",
       "      <th>X16699_at</th>\n",
       "      <th>X83863_at</th>\n",
       "      <th>Z17240_at</th>\n",
       "      <th>L49218_f_at</th>\n",
       "      <th>M71243_f_at</th>\n",
       "      <th>Z78285_f_at</th>\n",
       "    </tr>\n",
       "  </thead>\n",
       "  <tbody>\n",
       "    <tr>\n",
       "      <th>count</th>\n",
       "      <td>40.00000</td>\n",
       "      <td>40.000000</td>\n",
       "      <td>40.000000</td>\n",
       "      <td>40.000000</td>\n",
       "      <td>40.000000</td>\n",
       "      <td>40.000000</td>\n",
       "      <td>40.000000</td>\n",
       "      <td>40.000000</td>\n",
       "      <td>40.000000</td>\n",
       "      <td>40.000000</td>\n",
       "      <td>...</td>\n",
       "      <td>40.000000</td>\n",
       "      <td>40.000000</td>\n",
       "      <td>40.000000</td>\n",
       "      <td>40.000000</td>\n",
       "      <td>40.000000</td>\n",
       "      <td>40.000000</td>\n",
       "      <td>40.000000</td>\n",
       "      <td>40.000000</td>\n",
       "      <td>40.000000</td>\n",
       "      <td>40.000000</td>\n",
       "    </tr>\n",
       "    <tr>\n",
       "      <th>mean</th>\n",
       "      <td>0.37500</td>\n",
       "      <td>0.640347</td>\n",
       "      <td>0.719472</td>\n",
       "      <td>0.369477</td>\n",
       "      <td>0.512253</td>\n",
       "      <td>0.529472</td>\n",
       "      <td>0.550653</td>\n",
       "      <td>0.654253</td>\n",
       "      <td>0.581803</td>\n",
       "      <td>0.535615</td>\n",
       "      <td>...</td>\n",
       "      <td>0.385916</td>\n",
       "      <td>0.351822</td>\n",
       "      <td>0.656206</td>\n",
       "      <td>0.173726</td>\n",
       "      <td>0.698519</td>\n",
       "      <td>0.334762</td>\n",
       "      <td>0.283348</td>\n",
       "      <td>0.615608</td>\n",
       "      <td>0.162620</td>\n",
       "      <td>0.404570</td>\n",
       "    </tr>\n",
       "    <tr>\n",
       "      <th>std</th>\n",
       "      <td>0.49029</td>\n",
       "      <td>0.182889</td>\n",
       "      <td>0.186767</td>\n",
       "      <td>0.237206</td>\n",
       "      <td>0.243956</td>\n",
       "      <td>0.231075</td>\n",
       "      <td>0.214332</td>\n",
       "      <td>0.216589</td>\n",
       "      <td>0.228836</td>\n",
       "      <td>0.231285</td>\n",
       "      <td>...</td>\n",
       "      <td>0.234882</td>\n",
       "      <td>0.195379</td>\n",
       "      <td>0.217202</td>\n",
       "      <td>0.154501</td>\n",
       "      <td>0.201592</td>\n",
       "      <td>0.204001</td>\n",
       "      <td>0.171412</td>\n",
       "      <td>0.200119</td>\n",
       "      <td>0.202527</td>\n",
       "      <td>0.199781</td>\n",
       "    </tr>\n",
       "    <tr>\n",
       "      <th>min</th>\n",
       "      <td>0.00000</td>\n",
       "      <td>0.000000</td>\n",
       "      <td>0.000000</td>\n",
       "      <td>0.000000</td>\n",
       "      <td>0.000000</td>\n",
       "      <td>0.000000</td>\n",
       "      <td>0.000000</td>\n",
       "      <td>0.000000</td>\n",
       "      <td>0.000000</td>\n",
       "      <td>0.000000</td>\n",
       "      <td>...</td>\n",
       "      <td>0.000000</td>\n",
       "      <td>0.000000</td>\n",
       "      <td>0.000000</td>\n",
       "      <td>0.000000</td>\n",
       "      <td>0.000000</td>\n",
       "      <td>0.000000</td>\n",
       "      <td>0.000000</td>\n",
       "      <td>0.000000</td>\n",
       "      <td>0.000000</td>\n",
       "      <td>0.000000</td>\n",
       "    </tr>\n",
       "    <tr>\n",
       "      <th>25%</th>\n",
       "      <td>0.00000</td>\n",
       "      <td>0.596530</td>\n",
       "      <td>0.631115</td>\n",
       "      <td>0.201744</td>\n",
       "      <td>0.325824</td>\n",
       "      <td>0.386853</td>\n",
       "      <td>0.408101</td>\n",
       "      <td>0.547153</td>\n",
       "      <td>0.484127</td>\n",
       "      <td>0.342807</td>\n",
       "      <td>...</td>\n",
       "      <td>0.247305</td>\n",
       "      <td>0.213235</td>\n",
       "      <td>0.556792</td>\n",
       "      <td>0.104175</td>\n",
       "      <td>0.602778</td>\n",
       "      <td>0.210597</td>\n",
       "      <td>0.200870</td>\n",
       "      <td>0.506906</td>\n",
       "      <td>0.057054</td>\n",
       "      <td>0.243280</td>\n",
       "    </tr>\n",
       "    <tr>\n",
       "      <th>50%</th>\n",
       "      <td>0.00000</td>\n",
       "      <td>0.653025</td>\n",
       "      <td>0.745597</td>\n",
       "      <td>0.323256</td>\n",
       "      <td>0.553846</td>\n",
       "      <td>0.584052</td>\n",
       "      <td>0.542683</td>\n",
       "      <td>0.683986</td>\n",
       "      <td>0.634921</td>\n",
       "      <td>0.573086</td>\n",
       "      <td>...</td>\n",
       "      <td>0.370620</td>\n",
       "      <td>0.337596</td>\n",
       "      <td>0.715457</td>\n",
       "      <td>0.143865</td>\n",
       "      <td>0.737037</td>\n",
       "      <td>0.302760</td>\n",
       "      <td>0.281739</td>\n",
       "      <td>0.607735</td>\n",
       "      <td>0.085271</td>\n",
       "      <td>0.416667</td>\n",
       "    </tr>\n",
       "    <tr>\n",
       "      <th>75%</th>\n",
       "      <td>1.00000</td>\n",
       "      <td>0.731762</td>\n",
       "      <td>0.844423</td>\n",
       "      <td>0.500000</td>\n",
       "      <td>0.720330</td>\n",
       "      <td>0.683728</td>\n",
       "      <td>0.713850</td>\n",
       "      <td>0.753381</td>\n",
       "      <td>0.739796</td>\n",
       "      <td>0.725058</td>\n",
       "      <td>...</td>\n",
       "      <td>0.498652</td>\n",
       "      <td>0.407289</td>\n",
       "      <td>0.813232</td>\n",
       "      <td>0.195904</td>\n",
       "      <td>0.856481</td>\n",
       "      <td>0.434328</td>\n",
       "      <td>0.342391</td>\n",
       "      <td>0.708564</td>\n",
       "      <td>0.176434</td>\n",
       "      <td>0.512097</td>\n",
       "    </tr>\n",
       "    <tr>\n",
       "      <th>max</th>\n",
       "      <td>1.00000</td>\n",
       "      <td>1.000000</td>\n",
       "      <td>1.000000</td>\n",
       "      <td>1.000000</td>\n",
       "      <td>1.000000</td>\n",
       "      <td>1.000000</td>\n",
       "      <td>1.000000</td>\n",
       "      <td>1.000000</td>\n",
       "      <td>1.000000</td>\n",
       "      <td>1.000000</td>\n",
       "      <td>...</td>\n",
       "      <td>1.000000</td>\n",
       "      <td>1.000000</td>\n",
       "      <td>1.000000</td>\n",
       "      <td>1.000000</td>\n",
       "      <td>1.000000</td>\n",
       "      <td>1.000000</td>\n",
       "      <td>1.000000</td>\n",
       "      <td>1.000000</td>\n",
       "      <td>1.000000</td>\n",
       "      <td>1.000000</td>\n",
       "    </tr>\n",
       "  </tbody>\n",
       "</table>\n",
       "<p>8 rows × 7130 columns</p>\n",
       "</div>"
      ],
      "text/plain": [
       "       Cancer_type  AFFX-BioB-5_at  AFFX-BioB-M_at  AFFX-BioB-3_at  \\\n",
       "count     40.00000       40.000000       40.000000       40.000000   \n",
       "mean       0.37500        0.640347        0.719472        0.369477   \n",
       "std        0.49029        0.182889        0.186767        0.237206   \n",
       "min        0.00000        0.000000        0.000000        0.000000   \n",
       "25%        0.00000        0.596530        0.631115        0.201744   \n",
       "50%        0.00000        0.653025        0.745597        0.323256   \n",
       "75%        1.00000        0.731762        0.844423        0.500000   \n",
       "max        1.00000        1.000000        1.000000        1.000000   \n",
       "\n",
       "       AFFX-BioC-5_at  AFFX-BioC-3_at  AFFX-BioDn-5_at  AFFX-BioDn-3_at  \\\n",
       "count       40.000000       40.000000        40.000000        40.000000   \n",
       "mean         0.512253        0.529472         0.550653         0.654253   \n",
       "std          0.243956        0.231075         0.214332         0.216589   \n",
       "min          0.000000        0.000000         0.000000         0.000000   \n",
       "25%          0.325824        0.386853         0.408101         0.547153   \n",
       "50%          0.553846        0.584052         0.542683         0.683986   \n",
       "75%          0.720330        0.683728         0.713850         0.753381   \n",
       "max          1.000000        1.000000         1.000000         1.000000   \n",
       "\n",
       "       AFFX-CreX-5_at  AFFX-CreX-3_at  ...  U48730_at  U58516_at  U73738_at  \\\n",
       "count       40.000000       40.000000  ...  40.000000  40.000000  40.000000   \n",
       "mean         0.581803        0.535615  ...   0.385916   0.351822   0.656206   \n",
       "std          0.228836        0.231285  ...   0.234882   0.195379   0.217202   \n",
       "min          0.000000        0.000000  ...   0.000000   0.000000   0.000000   \n",
       "25%          0.484127        0.342807  ...   0.247305   0.213235   0.556792   \n",
       "50%          0.634921        0.573086  ...   0.370620   0.337596   0.715457   \n",
       "75%          0.739796        0.725058  ...   0.498652   0.407289   0.813232   \n",
       "max          1.000000        1.000000  ...   1.000000   1.000000   1.000000   \n",
       "\n",
       "       X06956_at  X16699_at  X83863_at  Z17240_at  L49218_f_at  M71243_f_at  \\\n",
       "count  40.000000  40.000000  40.000000  40.000000    40.000000    40.000000   \n",
       "mean    0.173726   0.698519   0.334762   0.283348     0.615608     0.162620   \n",
       "std     0.154501   0.201592   0.204001   0.171412     0.200119     0.202527   \n",
       "min     0.000000   0.000000   0.000000   0.000000     0.000000     0.000000   \n",
       "25%     0.104175   0.602778   0.210597   0.200870     0.506906     0.057054   \n",
       "50%     0.143865   0.737037   0.302760   0.281739     0.607735     0.085271   \n",
       "75%     0.195904   0.856481   0.434328   0.342391     0.708564     0.176434   \n",
       "max     1.000000   1.000000   1.000000   1.000000     1.000000     1.000000   \n",
       "\n",
       "       Z78285_f_at  \n",
       "count    40.000000  \n",
       "mean      0.404570  \n",
       "std       0.199781  \n",
       "min       0.000000  \n",
       "25%       0.243280  \n",
       "50%       0.416667  \n",
       "75%       0.512097  \n",
       "max       1.000000  \n",
       "\n",
       "[8 rows x 7130 columns]"
      ]
     },
     "execution_count": 107,
     "metadata": {},
     "output_type": "execute_result"
    }
   ],
   "source": [
    "data_train.describe()"
   ]
  },
  {
   "cell_type": "code",
   "execution_count": 108,
   "metadata": {},
   "outputs": [
    {
     "data": {
      "text/html": [
       "<div>\n",
       "<style scoped>\n",
       "    .dataframe tbody tr th:only-of-type {\n",
       "        vertical-align: middle;\n",
       "    }\n",
       "\n",
       "    .dataframe tbody tr th {\n",
       "        vertical-align: top;\n",
       "    }\n",
       "\n",
       "    .dataframe thead th {\n",
       "        text-align: right;\n",
       "    }\n",
       "</style>\n",
       "<table border=\"1\" class=\"dataframe\">\n",
       "  <thead>\n",
       "    <tr style=\"text-align: right;\">\n",
       "      <th></th>\n",
       "      <th>Cancer_type</th>\n",
       "      <th>AFFX-BioB-5_at</th>\n",
       "      <th>AFFX-BioB-M_at</th>\n",
       "      <th>AFFX-BioB-3_at</th>\n",
       "      <th>AFFX-BioC-5_at</th>\n",
       "      <th>AFFX-BioC-3_at</th>\n",
       "      <th>AFFX-BioDn-5_at</th>\n",
       "      <th>AFFX-BioDn-3_at</th>\n",
       "      <th>AFFX-CreX-5_at</th>\n",
       "      <th>AFFX-CreX-3_at</th>\n",
       "      <th>...</th>\n",
       "      <th>U48730_at</th>\n",
       "      <th>U58516_at</th>\n",
       "      <th>U73738_at</th>\n",
       "      <th>X06956_at</th>\n",
       "      <th>X16699_at</th>\n",
       "      <th>X83863_at</th>\n",
       "      <th>Z17240_at</th>\n",
       "      <th>L49218_f_at</th>\n",
       "      <th>M71243_f_at</th>\n",
       "      <th>Z78285_f_at</th>\n",
       "    </tr>\n",
       "  </thead>\n",
       "  <tbody>\n",
       "    <tr>\n",
       "      <th>count</th>\n",
       "      <td>33.000000</td>\n",
       "      <td>33.000000</td>\n",
       "      <td>33.000000</td>\n",
       "      <td>33.000000</td>\n",
       "      <td>33.000000</td>\n",
       "      <td>33.000000</td>\n",
       "      <td>33.000000</td>\n",
       "      <td>33.000000</td>\n",
       "      <td>33.000000</td>\n",
       "      <td>33.000000</td>\n",
       "      <td>...</td>\n",
       "      <td>33.000000</td>\n",
       "      <td>33.000000</td>\n",
       "      <td>33.000000</td>\n",
       "      <td>33.000000</td>\n",
       "      <td>33.000000</td>\n",
       "      <td>33.000000</td>\n",
       "      <td>33.000000</td>\n",
       "      <td>33.000000</td>\n",
       "      <td>33.000000</td>\n",
       "      <td>33.000000</td>\n",
       "    </tr>\n",
       "    <tr>\n",
       "      <th>mean</th>\n",
       "      <td>0.303030</td>\n",
       "      <td>0.641055</td>\n",
       "      <td>0.733737</td>\n",
       "      <td>0.371388</td>\n",
       "      <td>0.409524</td>\n",
       "      <td>0.512409</td>\n",
       "      <td>0.479516</td>\n",
       "      <td>0.744937</td>\n",
       "      <td>0.606473</td>\n",
       "      <td>0.533502</td>\n",
       "      <td>...</td>\n",
       "      <td>0.328188</td>\n",
       "      <td>0.387352</td>\n",
       "      <td>0.664112</td>\n",
       "      <td>0.141442</td>\n",
       "      <td>0.679686</td>\n",
       "      <td>0.297215</td>\n",
       "      <td>0.322661</td>\n",
       "      <td>0.597355</td>\n",
       "      <td>0.120583</td>\n",
       "      <td>0.429456</td>\n",
       "    </tr>\n",
       "    <tr>\n",
       "      <th>std</th>\n",
       "      <td>0.466694</td>\n",
       "      <td>0.165245</td>\n",
       "      <td>0.189658</td>\n",
       "      <td>0.335398</td>\n",
       "      <td>0.239065</td>\n",
       "      <td>0.298177</td>\n",
       "      <td>0.309424</td>\n",
       "      <td>0.174231</td>\n",
       "      <td>0.222876</td>\n",
       "      <td>0.187403</td>\n",
       "      <td>...</td>\n",
       "      <td>0.271523</td>\n",
       "      <td>0.194909</td>\n",
       "      <td>0.193956</td>\n",
       "      <td>0.138439</td>\n",
       "      <td>0.180964</td>\n",
       "      <td>0.194876</td>\n",
       "      <td>0.186667</td>\n",
       "      <td>0.296720</td>\n",
       "      <td>0.179463</td>\n",
       "      <td>0.233766</td>\n",
       "    </tr>\n",
       "    <tr>\n",
       "      <th>min</th>\n",
       "      <td>0.000000</td>\n",
       "      <td>0.112100</td>\n",
       "      <td>0.174168</td>\n",
       "      <td>-0.562791</td>\n",
       "      <td>-0.026374</td>\n",
       "      <td>-0.096983</td>\n",
       "      <td>-0.198606</td>\n",
       "      <td>0.489680</td>\n",
       "      <td>-0.024943</td>\n",
       "      <td>0.153132</td>\n",
       "      <td>...</td>\n",
       "      <td>-0.269542</td>\n",
       "      <td>0.021739</td>\n",
       "      <td>0.257611</td>\n",
       "      <td>0.014504</td>\n",
       "      <td>0.266667</td>\n",
       "      <td>0.029386</td>\n",
       "      <td>0.035652</td>\n",
       "      <td>-0.591160</td>\n",
       "      <td>-0.010853</td>\n",
       "      <td>-0.440860</td>\n",
       "    </tr>\n",
       "    <tr>\n",
       "      <th>25%</th>\n",
       "      <td>0.000000</td>\n",
       "      <td>0.560498</td>\n",
       "      <td>0.618395</td>\n",
       "      <td>0.255814</td>\n",
       "      <td>0.232967</td>\n",
       "      <td>0.312500</td>\n",
       "      <td>0.240418</td>\n",
       "      <td>0.620641</td>\n",
       "      <td>0.519274</td>\n",
       "      <td>0.406032</td>\n",
       "      <td>...</td>\n",
       "      <td>0.164420</td>\n",
       "      <td>0.268542</td>\n",
       "      <td>0.578454</td>\n",
       "      <td>0.076833</td>\n",
       "      <td>0.551852</td>\n",
       "      <td>0.203028</td>\n",
       "      <td>0.184348</td>\n",
       "      <td>0.508287</td>\n",
       "      <td>0.046202</td>\n",
       "      <td>0.349462</td>\n",
       "    </tr>\n",
       "    <tr>\n",
       "      <th>50%</th>\n",
       "      <td>0.000000</td>\n",
       "      <td>0.683274</td>\n",
       "      <td>0.767123</td>\n",
       "      <td>0.374419</td>\n",
       "      <td>0.373626</td>\n",
       "      <td>0.566810</td>\n",
       "      <td>0.496516</td>\n",
       "      <td>0.716726</td>\n",
       "      <td>0.625850</td>\n",
       "      <td>0.494200</td>\n",
       "      <td>...</td>\n",
       "      <td>0.239892</td>\n",
       "      <td>0.350384</td>\n",
       "      <td>0.662763</td>\n",
       "      <td>0.103489</td>\n",
       "      <td>0.677778</td>\n",
       "      <td>0.269368</td>\n",
       "      <td>0.322609</td>\n",
       "      <td>0.607735</td>\n",
       "      <td>0.074729</td>\n",
       "      <td>0.451613</td>\n",
       "    </tr>\n",
       "    <tr>\n",
       "      <th>75%</th>\n",
       "      <td>1.000000</td>\n",
       "      <td>0.749110</td>\n",
       "      <td>0.872798</td>\n",
       "      <td>0.504651</td>\n",
       "      <td>0.558242</td>\n",
       "      <td>0.698276</td>\n",
       "      <td>0.736934</td>\n",
       "      <td>0.839146</td>\n",
       "      <td>0.752834</td>\n",
       "      <td>0.635731</td>\n",
       "      <td>...</td>\n",
       "      <td>0.463612</td>\n",
       "      <td>0.475703</td>\n",
       "      <td>0.768150</td>\n",
       "      <td>0.163073</td>\n",
       "      <td>0.796296</td>\n",
       "      <td>0.330365</td>\n",
       "      <td>0.423478</td>\n",
       "      <td>0.751381</td>\n",
       "      <td>0.090853</td>\n",
       "      <td>0.575269</td>\n",
       "    </tr>\n",
       "    <tr>\n",
       "      <th>max</th>\n",
       "      <td>1.000000</td>\n",
       "      <td>0.873665</td>\n",
       "      <td>1.013699</td>\n",
       "      <td>1.116279</td>\n",
       "      <td>0.923077</td>\n",
       "      <td>1.314655</td>\n",
       "      <td>0.954704</td>\n",
       "      <td>1.243416</td>\n",
       "      <td>0.970522</td>\n",
       "      <td>0.928074</td>\n",
       "      <td>...</td>\n",
       "      <td>0.846361</td>\n",
       "      <td>0.872123</td>\n",
       "      <td>1.201405</td>\n",
       "      <td>0.769502</td>\n",
       "      <td>1.007407</td>\n",
       "      <td>0.838379</td>\n",
       "      <td>0.824348</td>\n",
       "      <td>1.187845</td>\n",
       "      <td>0.791628</td>\n",
       "      <td>0.795699</td>\n",
       "    </tr>\n",
       "  </tbody>\n",
       "</table>\n",
       "<p>8 rows × 7130 columns</p>\n",
       "</div>"
      ],
      "text/plain": [
       "       Cancer_type  AFFX-BioB-5_at  AFFX-BioB-M_at  AFFX-BioB-3_at  \\\n",
       "count    33.000000       33.000000       33.000000       33.000000   \n",
       "mean      0.303030        0.641055        0.733737        0.371388   \n",
       "std       0.466694        0.165245        0.189658        0.335398   \n",
       "min       0.000000        0.112100        0.174168       -0.562791   \n",
       "25%       0.000000        0.560498        0.618395        0.255814   \n",
       "50%       0.000000        0.683274        0.767123        0.374419   \n",
       "75%       1.000000        0.749110        0.872798        0.504651   \n",
       "max       1.000000        0.873665        1.013699        1.116279   \n",
       "\n",
       "       AFFX-BioC-5_at  AFFX-BioC-3_at  AFFX-BioDn-5_at  AFFX-BioDn-3_at  \\\n",
       "count       33.000000       33.000000        33.000000        33.000000   \n",
       "mean         0.409524        0.512409         0.479516         0.744937   \n",
       "std          0.239065        0.298177         0.309424         0.174231   \n",
       "min         -0.026374       -0.096983        -0.198606         0.489680   \n",
       "25%          0.232967        0.312500         0.240418         0.620641   \n",
       "50%          0.373626        0.566810         0.496516         0.716726   \n",
       "75%          0.558242        0.698276         0.736934         0.839146   \n",
       "max          0.923077        1.314655         0.954704         1.243416   \n",
       "\n",
       "       AFFX-CreX-5_at  AFFX-CreX-3_at  ...  U48730_at  U58516_at  U73738_at  \\\n",
       "count       33.000000       33.000000  ...  33.000000  33.000000  33.000000   \n",
       "mean         0.606473        0.533502  ...   0.328188   0.387352   0.664112   \n",
       "std          0.222876        0.187403  ...   0.271523   0.194909   0.193956   \n",
       "min         -0.024943        0.153132  ...  -0.269542   0.021739   0.257611   \n",
       "25%          0.519274        0.406032  ...   0.164420   0.268542   0.578454   \n",
       "50%          0.625850        0.494200  ...   0.239892   0.350384   0.662763   \n",
       "75%          0.752834        0.635731  ...   0.463612   0.475703   0.768150   \n",
       "max          0.970522        0.928074  ...   0.846361   0.872123   1.201405   \n",
       "\n",
       "       X06956_at  X16699_at  X83863_at  Z17240_at  L49218_f_at  M71243_f_at  \\\n",
       "count  33.000000  33.000000  33.000000  33.000000    33.000000    33.000000   \n",
       "mean    0.141442   0.679686   0.297215   0.322661     0.597355     0.120583   \n",
       "std     0.138439   0.180964   0.194876   0.186667     0.296720     0.179463   \n",
       "min     0.014504   0.266667   0.029386   0.035652    -0.591160    -0.010853   \n",
       "25%     0.076833   0.551852   0.203028   0.184348     0.508287     0.046202   \n",
       "50%     0.103489   0.677778   0.269368   0.322609     0.607735     0.074729   \n",
       "75%     0.163073   0.796296   0.330365   0.423478     0.751381     0.090853   \n",
       "max     0.769502   1.007407   0.838379   0.824348     1.187845     0.791628   \n",
       "\n",
       "       Z78285_f_at  \n",
       "count    33.000000  \n",
       "mean      0.429456  \n",
       "std       0.233766  \n",
       "min      -0.440860  \n",
       "25%       0.349462  \n",
       "50%       0.451613  \n",
       "75%       0.575269  \n",
       "max       0.795699  \n",
       "\n",
       "[8 rows x 7130 columns]"
      ]
     },
     "execution_count": 108,
     "metadata": {},
     "output_type": "execute_result"
    }
   ],
   "source": [
    "data_test.describe()"
   ]
  },
  {
   "cell_type": "markdown",
   "metadata": {},
   "source": [
    "**1.3:** Notice that the results training set contains more predictors than observations. Do you foresee a problem in fitting a classification model to such a data set?\n"
   ]
  },
  {
   "cell_type": "markdown",
   "metadata": {},
   "source": [
    "----\n",
    "\n",
    "We can foresee that fitting a classification model will result in an overfit at the dataset. We can allso foresee multicollinearity among many features and problems inverting matrices.\n",
    "\n",
    "----"
   ]
  },
  {
   "cell_type": "markdown",
   "metadata": {},
   "source": [
    "**1.4:** Lets explore a few of the genes and see how well they discriminate between cancer classes. Create a single figure with four subplots arranged in a 2x2 grid. Consider the following four genes: `D29963_at`, `M23161_at`, `hum_alu_at`, and `AFFX-PheX-5_at`. For each gene overlay two histograms of the gene expression values on one of the subplots, one histogram for each cancer type. Does it appear that any of these genes discriminate between the two classes well? How are you able to tell?"
   ]
  },
  {
   "cell_type": "code",
   "execution_count": 110,
   "metadata": {
    "jupyter": {
     "outputs_hidden": true
    }
   },
   "outputs": [
    {
     "data": {
      "image/png": "[encoded data removed]",
      "text/plain": [
       "<Figure size 720x576 with 4 Axes>"
      ]
     },
     "metadata": {},
     "output_type": "display_data"
    }
   ],
   "source": [
    "fig, axes = plt.subplots(2, 2, figsize=(10, 8))\n",
    "all_df = df[df.Cancer_type == 0]\n",
    "aml_df = df[df.Cancer_type == 1]\n",
    "for i, column in enumerate(['D29963_at', 'M23161_at', 'hum_alu_at', 'AFFX-PheX-5_at']):\n",
    "    sns.distplot(all_df[column], ax = axes.reshape(4)[i], label='ALL')\n",
    "    sns.distplot(aml_df[column], ax = axes.reshape(4)[i], label='AML')\n",
    "    axes.reshape(4)[i].legend()\n",
    "fig.suptitle('Distribution of gene expression values by type of cancer (ALL vs. AML)')\n",
    "plt.show()"
   ]
  },
  {
   "cell_type": "markdown",
   "metadata": {},
   "source": [
    "----\n",
    "\n",
    "We see that the distributions of the gene expression are not the same for the two types of cancer and the four genes considerated. For example, _D29963_at_ has different means, modes and variances. _M23161_at_ also has a significant difference.\n",
    "\n",
    "----"
   ]
  },
  {
   "cell_type": "markdown",
   "metadata": {},
   "source": [
    "**1.5:** Since our data has dimensions that are not easily visualizable, we want to reduce the dimensionality of the data to make it easier to visualize. Using PCA, find the top two principal components for the gene expression data. Generate a scatter plot using these principal components, highlighting the two cancer types in different colors. How well do the top two principal components discriminate between the two classes? How much of the variance within the data do these two principal components explain?"
   ]
  },
  {
   "cell_type": "code",
   "execution_count": 121,
   "metadata": {},
   "outputs": [
    {
     "data": {
      "image/png": "[encoded data removed]",
      "text/plain": [
       "<Figure size 432x288 with 1 Axes>"
      ]
     },
     "metadata": {},
     "output_type": "display_data"
    }
   ],
   "source": [
    "pca = PCA(n_components=2).fit(df.drop(columns='Cancer_type'))\n",
    "pca_X = pca.transform(df.drop(columns='Cancer_type'))\n",
    "pca_df = pd.DataFrame(pca_X, columns=['first_comp', 'second_comp'])\n",
    "\n",
    "sns.scatterplot(x=pca_df.first_comp, y=pca_df.second_comp, hue=df.Cancer_type)\n",
    "plt.title('PCA of gene expression')\n",
    "plt.show()"
   ]
  },
  {
   "cell_type": "code",
   "execution_count": 123,
   "metadata": {},
   "outputs": [
    {
     "data": {
      "text/plain": [
       "0.25472890139389837"
      ]
     },
     "execution_count": 123,
     "metadata": {},
     "output_type": "execute_result"
    }
   ],
   "source": [
    "pca.explained_variance_ratio_.sum()"
   ]
  },
  {
   "cell_type": "markdown",
   "metadata": {},
   "source": [
    "----\n",
    "\n",
    "The PCA does a good job discriminating between the two classes of cancer, considering that we had many many features. The two first components explain around $25\\%$ of the variance of the data.\n",
    "\n",
    "----"
   ]
  },
  {
   "cell_type": "markdown",
   "metadata": {},
   "source": [
    "## Question 2: Linear Regression vs. Logistic Regression\n",
    "\n",
    "In class we discussed how to use both linear regression and logistic regression for classification. For this question, you will work with a single gene predictor, `D29963_at`, to explore these two methods.\n",
    "\n",
    "1. Fit a simple linear regression model to the training set using the single gene predictor `D29963_at`. We could interpret the scores predicted by the regression model interpreted for a patient as an estimate of the probability that the patient has `Cancer_type`=1. Is there a problem with this interpretation?\n",
    "\n",
    "2. The fitted linear regression model can be converted to a classification model (i.e. a model that predicts one of two binary labels 0 or 1) by classifying patients with predicted score greater than 0.5 into `Cancer_type`=1, and the others into the `Cancer_type`=0. Evaluate the classification accuracy (1 - misclassification rate) of the obtained classification model on both the training and test sets.\n",
    "\n",
    "3. Next, fit a simple logistic regression model to the training set. How do the training and test classification accuracies of this model compare with the linear regression model? Remember, you need to set the regularization parameter for sklearn's logistic regression function to be a very large value in order to not regularize (use 'C=100000').\n",
    "\n",
    "4. Plot the quantitative output from the linear regression model and the probabilistic output from the logistic regression model (on the training set points) as a function of the gene predictor. Also, display the true binary response for the training set points in the same plot. Based on these plots, does one of the models appear better suited for binary classification than the other? Explain."
   ]
  },
  {
   "cell_type": "markdown",
   "metadata": {},
   "source": [
    "#### Answers: \n",
    "\n",
    "**2.1:** Fit a simple linear regression model to the training set using the single gene predictor `D29963_at`. We could interpret the scores predicted by the regression model interpreted for a patient as an estimate of the probability that the patient has `Cancer_type`=1. Is there a problem with this interpretation?\n"
   ]
  },
  {
   "cell_type": "code",
   "execution_count": 133,
   "metadata": {},
   "outputs": [],
   "source": [
    "X_train = data_train['D29963_at'].to_numpy()\n",
    "y_train = data_train['Cancer_type'].to_numpy()\n",
    "ols_model = OLS(y_train, sm.add_constant(X_train)).fit()"
   ]
  },
  {
   "cell_type": "markdown",
   "metadata": {},
   "source": [
    "----\n",
    "\n",
    "One problem with this intepretation is that we could have an estimation of probability greater than 1 or smaller than 0. Another ptoblem is that we are assuming that the data can be classified with a linear regression (it's the assumption, it could not be true).\n",
    "\n",
    "----"
   ]
  },
  {
   "cell_type": "markdown",
   "metadata": {},
   "source": [
    "**2.2:** The fitted linear regression model can be converted to a classification model (i.e. a model that predicts one of two binary labels 0 or 1) by classifying patients with predicted score greater than 0.5 into `Cancer_type`=1, and the others into the `Cancer_type`=0. Evaluate the classification accuracy (1 - misclassification rate) of the obtained classification model on both the training and test sets.\n"
   ]
  },
  {
   "cell_type": "code",
   "execution_count": 190,
   "metadata": {
    "jupyter": {
     "outputs_hidden": true
    }
   },
   "outputs": [
    {
     "name": "stdout",
     "output_type": "stream",
     "text": [
      "Classification accuracy on the training set: 0.8\n"
     ]
    }
   ],
   "source": [
    "missclassification = (ols_model.predict(sm.add_constant(X_train)) > 0.5) != y_train\n",
    "print('Classification accuracy on the training set: {}'.format(1 - missclassification.sum()/len(X_train)))"
   ]
  },
  {
   "cell_type": "code",
   "execution_count": 192,
   "metadata": {},
   "outputs": [
    {
     "name": "stdout",
     "output_type": "stream",
     "text": [
      "Classification accuracy on the test set: 0.7576\n"
     ]
    }
   ],
   "source": [
    "X_test = data_test['D29963_at'].to_numpy()\n",
    "y_test = data_test['Cancer_type'].to_numpy()\n",
    "missclassification = (ols_model.predict(sm.add_constant(X_test)) > 0.5) != y_test\n",
    "print('Classification accuracy on the test set: {:.4f}'.format(1 - missclassification.sum()/len(X_test)))"
   ]
  },
  {
   "cell_type": "markdown",
   "metadata": {},
   "source": [
    "**2.3:** Next, fit a simple logistic regression model to the training set. How do the training and test classification accuracies of this model compare with the linear regression model? Remember, you need to set the regularization parameter for sklearn's logistic regression function to be a very large value in order to not regularize (use 'C=100000')."
   ]
  },
  {
   "cell_type": "code",
   "execution_count": 193,
   "metadata": {
    "jupyter": {
     "outputs_hidden": true
    }
   },
   "outputs": [],
   "source": [
    "lr_model = LogisticRegression(C=100000).fit(X_train.reshape(-1, 1), y_train)"
   ]
  },
  {
   "cell_type": "code",
   "execution_count": 209,
   "metadata": {},
   "outputs": [
    {
     "name": "stdout",
     "output_type": "stream",
     "text": [
      "Classification accuracy on the training set: 0.8\n"
     ]
    }
   ],
   "source": [
    "missclassification = lr_model.predict(X_train.reshape(-1, 1)) != y_train\n",
    "print('Classification accuracy on the training set: {}'.format(1 - missclassification.sum()/len(X_train)))"
   ]
  },
  {
   "cell_type": "code",
   "execution_count": 210,
   "metadata": {},
   "outputs": [
    {
     "name": "stdout",
     "output_type": "stream",
     "text": [
      "Classification accuracy on the test set: 0.7576\n"
     ]
    }
   ],
   "source": [
    "missclassification = lr_model.predict(X_test.reshape(-1, 1)) != y_test\n",
    "print('Classification accuracy on the test set: {:.4f}'.format(1 - missclassification.sum()/len(X_test)))"
   ]
  },
  {
   "cell_type": "markdown",
   "metadata": {},
   "source": [
    "----\n",
    "\n",
    "Both models perform the same on the training and test data!\n",
    "\n",
    "----"
   ]
  },
  {
   "cell_type": "markdown",
   "metadata": {},
   "source": [
    "**2.4:** Plot the quantitative output from the linear regression model and the probabilistic output from the logistic regression model (on the training set points) as a function of the gene predictor. Also, display the true binary response for the training set points in the same plot. Based on these plots, does one of the models appear better suited for binary classification than the other? Explain."
   ]
  },
  {
   "cell_type": "code",
   "execution_count": 211,
   "metadata": {
    "jupyter": {
     "outputs_hidden": true
    }
   },
   "outputs": [
    {
     "data": {
      "image/png": "[encoded data removed]",
      "text/plain": [
       "<Figure size 432x288 with 1 Axes>"
      ]
     },
     "metadata": {},
     "output_type": "display_data"
    }
   ],
   "source": [
    "ax = sns.scatterplot(\n",
    "    X_train,\n",
    "    ols_model.predict(sm.add_constant(X_train)),\n",
    "    label='Linear regression'\n",
    ")\n",
    "sns.scatterplot(\n",
    "    X_train,\n",
    "    lr_model.predict_proba(X_train.reshape(-1, 1))[:, 1],\n",
    "    ax=ax,\n",
    "    label='Logistic regression'\n",
    ")\n",
    "sns.scatterplot(X_train, y_train, ax=ax, label='True outputs')\n",
    "plt.title('Linear regression vs logistic regression for classification')\n",
    "plt.xlabel('Gene expression')\n",
    "plt.ylabel('Value')\n",
    "plt.show()"
   ]
  },
  {
   "cell_type": "markdown",
   "metadata": {},
   "source": [
    "----\n",
    "\n",
    "Logistic regression intuitively seems to be more appropriated to this problem. We also have that problem with linear regression already mentioned: if linear regression estimations are being interpreted as probabilites, we have probabilities greater than 1 and smaller than 0, which doesn't make sense.\n",
    "\n",
    "----"
   ]
  },
  {
   "cell_type": "markdown",
   "metadata": {},
   "source": [
    "## Question 3: Multiple Logistic Regression\n",
    "\n",
    "1. Next, fit a multiple logistic regression model with all the gene predictors from the data set.  How does the classification accuracy of this model compare with the models fitted in question 2 with a single gene (on both the training and test sets)?  \n",
    "\n",
    "2. Use the `visualize_prob` function provided below to visualize the probabilties predicted by the fitted multiple logistic regression model on both the training and test data sets. The function creates a visualization that places the data points on a vertical line based on the predicted probabilities, with the different cancer classes shown in different colors, and with the 0.5 threshold highlighted using a dotted horizontal line. Is there a difference in the spread of probabilities in the training and test plots? Are there data points for which the predicted probability is close to 0.5? If so, what can you say about these points?"
   ]
  },
  {
   "cell_type": "code",
   "execution_count": 212,
   "metadata": {
    "jupyter": {
     "outputs_hidden": true
    }
   },
   "outputs": [],
   "source": [
    "#--------  visualize_prob\n",
    "# A function to visualize the probabilities predicted by a Logistic Regression model\n",
    "# Input: \n",
    "#      model (Logistic regression model)\n",
    "#      x (n x d array of predictors in training data)\n",
    "#      y (n x 1 array of response variable vals in training data: 0 or 1)\n",
    "#      ax (an axis object to generate the plot)\n",
    "\n",
    "def visualize_prob(model, x, y, ax):\n",
    "    # Use the model to predict probabilities for\n",
    "    y_pred = model.predict_proba(x)\n",
    "    \n",
    "    # Separate the predictions on the label 1 and label 0 points\n",
    "    ypos = y_pred[y==1]\n",
    "    yneg = y_pred[y==0]\n",
    "    \n",
    "    # Count the number of label 1 and label 0 points\n",
    "    npos = ypos.shape[0]\n",
    "    nneg = yneg.shape[0]\n",
    "    \n",
    "    # Plot the probabilities on a vertical line at x = 0, \n",
    "    # with the positive points in blue and negative points in red\n",
    "    pos_handle = ax.plot(np.zeros((npos,1)), ypos[:,1], 'bo', label = 'Cancer Type 1')\n",
    "    neg_handle = ax.plot(np.zeros((nneg,1)), yneg[:,1], 'ro', label = 'Cancer Type 0')\n",
    "\n",
    "    # Line to mark prob 0.5\n",
    "    ax.axhline(y = 0.5, color = 'k', linestyle = '--')\n",
    "    \n",
    "    # Add y-label and legend, do not display x-axis, set y-axis limit\n",
    "    ax.set_ylabel('Probability of AML class')\n",
    "    ax.legend(loc = 'best')\n",
    "    ax.get_xaxis().set_visible(False)\n",
    "    ax.set_ylim([0,1])"
   ]
  },
  {
   "cell_type": "markdown",
   "metadata": {},
   "source": [
    "#### Answers \n",
    "**3.1:** Next, fit a multiple logistic regression model with all the gene predictors from the data set.  How does the classification accuracy of this model compare with the models fitted in question 2 with a single gene (on both the training and test sets)?  "
   ]
  },
  {
   "cell_type": "code",
   "execution_count": 218,
   "metadata": {},
   "outputs": [],
   "source": [
    "X_train = data_train.iloc[:, 1:].to_numpy()\n",
    "y_train = data_train['Cancer_type'].to_numpy()\n",
    "X_test = data_test.iloc[:, 1:].to_numpy()\n",
    "y_test = data_test['Cancer_type'].to_numpy()"
   ]
  },
  {
   "cell_type": "code",
   "execution_count": 245,
   "metadata": {
    "jupyter": {
     "outputs_hidden": true
    }
   },
   "outputs": [],
   "source": [
    "mlr_model = LogisticRegression(C=100000).fit(X_train, y_train)"
   ]
  },
  {
   "cell_type": "code",
   "execution_count": 247,
   "metadata": {},
   "outputs": [
    {
     "name": "stdout",
     "output_type": "stream",
     "text": [
      "Classification accuracy on the training set: 1.0\n"
     ]
    }
   ],
   "source": [
    "missclassification = mlr_model.predict(X_train) != y_train\n",
    "print('Classification accuracy on the training set: {}'.format(1 - missclassification.sum()/len(X_train)))"
   ]
  },
  {
   "cell_type": "code",
   "execution_count": 248,
   "metadata": {},
   "outputs": [
    {
     "name": "stdout",
     "output_type": "stream",
     "text": [
      "Classification accuracy on the test set: 1.0000\n"
     ]
    }
   ],
   "source": [
    "missclassification = mlr_model.predict(X_test) != y_test\n",
    "print('Classification accuracy on the test set: {:.4f}'.format(1 - missclassification.sum()/len(X_test)))"
   ]
  },
  {
   "cell_type": "markdown",
   "metadata": {},
   "source": [
    "----\n",
    "\n",
    "This model has accuracy of 1 for both training and test dataset.\n",
    "\n",
    "----"
   ]
  },
  {
   "cell_type": "markdown",
   "metadata": {},
   "source": [
    "**3.2:** Use the `visualize_prob` function provided below to visualize the probabilties predicted by the fitted multiple logistic regression model on both the training and test data sets. The function creates a visualization that places the data points on a vertical line based on the predicted probabilities, with the different cancer classes shown in different colors, and with the 0.5 threshold highlighted using a dotted horizontal line. Is there a difference in the spread of probabilities in the training and test plots? Are there data points for which the predicted probability is close to 0.5? If so, what can you say about these points?"
   ]
  },
  {
   "cell_type": "code",
   "execution_count": 276,
   "metadata": {
    "jupyter": {
     "outputs_hidden": true
    }
   },
   "outputs": [
    {
     "data": {
      "image/png": "[encoded data removed]",
      "text/plain": [
       "<Figure size 432x288 with 1 Axes>"
      ]
     },
     "metadata": {},
     "output_type": "display_data"
    }
   ],
   "source": [
    "fig, ax = plt.subplots()\n",
    "visualize_prob(mlr_model, X_train, y_train, ax)\n",
    "plt.show()"
   ]
  },
  {
   "cell_type": "code",
   "execution_count": 275,
   "metadata": {},
   "outputs": [
    {
     "data": {
      "image/png": "[encoded data removed]",
      "text/plain": [
       "<Figure size 432x288 with 1 Axes>"
      ]
     },
     "metadata": {},
     "output_type": "display_data"
    }
   ],
   "source": [
    "fig, ax = plt.subplots()\n",
    "visualize_prob(mlr_model, X_test, y_test, ax)\n",
    "plt.show()"
   ]
  },
  {
   "cell_type": "markdown",
   "metadata": {},
   "source": [
    "----\n",
    "\n",
    "The points for the training dataset are concentrated in the extremes, maybe because of overfitting. It would explain part of the fact that they are not so concentrated in the plot for the test dataset. We do not have points close to probability 0.5.\n",
    "\n",
    "----"
   ]
  },
  {
   "cell_type": "markdown",
   "metadata": {},
   "source": [
    "## Question 4: Analyzing Significance of Coefficients\n",
    "\n",
    "How many of the coefficients estimated by the multiple logistic regression in the previous problem are significantly different from zero at a *significance level of 95%*? \n",
    "\n",
    "Hint: To answer this question, use *bootstrapping* with 1000 boostrap samples/iterations.  "
   ]
  },
  {
   "cell_type": "markdown",
   "metadata": {},
   "source": [
    "#### Answer:"
   ]
  },
  {
   "cell_type": "code",
   "execution_count": 309,
   "metadata": {},
   "outputs": [],
   "source": [
    "# From Homework 4, Question 1\n",
    "\n",
    "# dataset_x should be a pandas dataframe\n",
    "\n",
    "## accepts dataset inputs as numpy arrays\n",
    "def make_bootstrap_sample(dataset_X, dataset_y, size = None):    \n",
    "    dataset_X = dataset_X.copy()\n",
    "    dataset_y = dataset_y.copy()\n",
    "    \n",
    "    # by default return a bootstrap sample of the same size as the original dataset\n",
    "    if not size: size = len(dataset_X)\n",
    "    \n",
    "    # if the X and y datasets aren't the same size, raise an exception\n",
    "    if len(dataset_X) != len(dataset_y):\n",
    "        raise Exception(\"Data size must match between dataset_X and dataset_y\")\n",
    "    \n",
    "    samples_indices = np.random.randint(0, len(dataset_X), len(dataset_X))\n",
    "    \n",
    "    bootstrap_dataset_X = dataset_X.iloc[samples_indices]\n",
    "    bootstrap_dataset_y = dataset_y[samples_indices, :]\n",
    "    \n",
    "    # return as a tuple your bootstrap samples of dataset_X as a pandas dataframe\n",
    "    # and your bootstrap samples of dataset y as a numpy column vector\n",
    "    \n",
    "    return (bootstrap_dataset_X, bootstrap_dataset_y)\n",
    "    \n",
    "\n",
    "def calculate_coefficients(dataset_X, dataset_y, model):\n",
    "    \n",
    "    features = list(dataset_X.columns)\n",
    "    coef_ = list(model.coef_[0])    \n",
    "    coefficients_dictionary = dict(zip(features, coef_))\n",
    "    \n",
    "    # return coefficients  in the variable  coefficients_dictionary as a dictionary\n",
    "    # with the key being the name of the feature as a string\n",
    "    # the value being the value of the coefficients\n",
    "    # do not return the intercept as part of this\n",
    "    return coefficients_dictionary\n",
    "\n",
    "\n",
    "def get_significant_predictors(regression_coefficients, significance_level):\n",
    "    features = list(regression_coefficients[0].keys())\n",
    "    significant_coefficients = []\n",
    "    for feature in features:\n",
    "        values = [coefficients[feature] for coefficients in regression_coefficients]\n",
    "        if np.quantile(values, significance_level/2) > 0:\n",
    "            significant_coefficients.append(feature)\n",
    "        else:\n",
    "            if np.quantile(values, 1 - significance_level/2) < 0:\n",
    "                significant_coefficients.append(feature)\n",
    "    \n",
    "    # regression_coefficients is a list of dictionaries\n",
    "    # with the key being the name of the feature as a string\n",
    "    # the value being the value of the coefficients\n",
    "    # each dictionary in the list should be the output of calculate_coefficients\n",
    "    \n",
    "    # return the significant coefficients as a list of strings\n",
    "    return significant_coefficients"
   ]
  },
  {
   "cell_type": "code",
   "execution_count": 310,
   "metadata": {},
   "outputs": [],
   "source": [
    "X_train = data_train.drop(columns='Cancer_type')"
   ]
  },
  {
   "cell_type": "code",
   "execution_count": 311,
   "metadata": {},
   "outputs": [],
   "source": [
    "y_train = data_train.Cancer_type.to_numpy()[..., np.newaxis]"
   ]
  },
  {
   "cell_type": "code",
   "execution_count": 312,
   "metadata": {},
   "outputs": [],
   "source": [
    "regression_coefficients = []\n",
    "for i in range(1000):\n",
    "    bootstrap_sample = make_bootstrap_sample(X_train, y_train)\n",
    "    model = LogisticRegression(C=100000).fit(bootstrap_sample[0], bootstrap_sample[1].reshape(-1))\n",
    "    coefficients = calculate_coefficients(bootstrap_sample[0], bootstrap_sample[1], model)    \n",
    "    regression_coefficients.append(coefficients)\n",
    "significant_bootstrap = get_significant_predictors(regression_coefficients, 0.05)"
   ]
  },
  {
   "cell_type": "code",
   "execution_count": 319,
   "metadata": {},
   "outputs": [
    {
     "name": "stdout",
     "output_type": "stream",
     "text": [
      "26.23% of the predictors are significantly different from zero at a significance level of 95%.\n"
     ]
    }
   ],
   "source": [
    "print(\n",
    "    ('{:.2f}% of the predictors are significantly ' +\n",
    "    'different from zero at a significance level of 95%.').format(\n",
    "        len(significant_bootstrap)/len(X_train.columns) * 100)\n",
    ")"
   ]
  },
  {
   "cell_type": "markdown",
   "metadata": {},
   "source": [
    "## Question 5: High Dimensionality\n",
    "\n",
    "One of the issues you may run into when dealing with high dimensional data is that your 2D and 3D intuition may fail breakdown. For example, distance metrics in high dimensions can have properties that may feel counterintuitive.\n",
    "\n",
    "Consider the following: You have a hypersphere with a radius of $1$, inside of a hypercube centered at $0$, with edges of length $2$.\n",
    "\n",
    "1. As a function of $d$, the number of dimensions, how much of the hypercube's volume is contained within the hypersphere?\n",
    "2. What happens as $d$ gets very large?\n",
    "3. Using the functions provided below, create a plot of how the volume ratio changes as a function of $d$.\n",
    "4. What does this tell you about where the majority of the volume of the hypercube resides in higher dimensions? \n",
    "\n",
    "*HINTS:* \n",
    "- The volume of a hypercube with edges of length $2$ is $V_c(d) = 2^d$.\n",
    "- The volume of a hyperphere with a radius of $1$ is $V_s(d) = \\frac{\\pi^{\\frac{d}{2}}} {\\Gamma\\left(\\frac{d}{2}+1\\right)}$, where $\\Gamma$ is Euler's Gamma Function.\n",
    "- $\\Gamma$ is increasing for all $d \\geq 1$."
   ]
  },
  {
   "cell_type": "code",
   "execution_count": 321,
   "metadata": {
    "jupyter": {
     "outputs_hidden": true
    }
   },
   "outputs": [],
   "source": [
    "def V_c(d):\n",
    "    \"\"\"\n",
    "    Calculate the volumn of a hypercube of dimension d.\n",
    "    \"\"\"\n",
    "    return 2**d\n",
    "\n",
    "def V_s(d):\n",
    "    \"\"\"\n",
    "    Calculate the volume of a hypersphere of dimension d.\n",
    "    \"\"\"\n",
    "    return math.pi**(d/2)/gamma((d/2)+1)  "
   ]
  },
  {
   "cell_type": "markdown",
   "metadata": {},
   "source": [
    "#### Answers:"
   ]
  },
  {
   "cell_type": "code",
   "execution_count": 324,
   "metadata": {},
   "outputs": [],
   "source": [
    "x = list(range(1, 40))\n",
    "y = [V_s(d)/V_c(d) for d in x]"
   ]
  },
  {
   "cell_type": "code",
   "execution_count": 326,
   "metadata": {
    "jupyter": {
     "outputs_hidden": true
    }
   },
   "outputs": [
    {
     "data": {
      "image/png": "[encoded data removed]",
      "text/plain": [
       "<Figure size 432x288 with 1 Axes>"
      ]
     },
     "metadata": {},
     "output_type": "display_data"
    }
   ],
   "source": [
    "sns.scatterplot(x, y)\n",
    "plt.title('Ratio between hypersphere and hypercube in high dimentional spaces')\n",
    "plt.xlabel('Dimension')\n",
    "plt.ylabel('Ratio')\n",
    "plt.show()"
   ]
  },
  {
   "cell_type": "markdown",
   "metadata": {},
   "source": [
    "----\n",
    "\n",
    "1. As a function of $d$ (the number of dimensions), $\\dfrac{V_s(d)}{V_c(d)} = \\frac{\\pi^{\\frac{d}{2}}} {\\Gamma\\left(\\frac{d}{2}+1\\right) 2^d}$ of the hypercube is contained within the hypersphere.\n",
    "2. Algebric manipulation:\n",
    "\n",
    "$$\\dfrac{V_s(d)}{V_c(d)} = \\frac{\\pi^{\\frac{d}{2}}} {\\Gamma\\left(\\frac{d}{2}+1\\right) 2^d} = \n",
    "\\dfrac{1}{\\Gamma\\left(\\frac{d}{2}+1\\right)} \\left(\\dfrac{\\sqrt{\\pi}}{2}\\right)^d$$\n",
    "\n",
    "When $d$ goes to infinity, the gamma function goes too, so its fraction goes to zero. The other factor also goes to zero, because the fraction is less than 1. So the original fraction also goes to zero.\n",
    "\n",
    "4. The plot provides evidence of this.\n",
    "\n",
    "----"
   ]
  },
  {
   "cell_type": "markdown",
   "metadata": {},
   "source": [
    "## Question 6: PCA and Dimensionality Reduction\n",
    "\n",
    "As we saw above, high dimensional problems can have counterintuitive behavior, thus we often want to try to reduce the dimensionality of our problems. A reasonable approach to reduce the dimensionality of the data is to use PCA and fit a logistic regression model on the smallest set of principal components that explain at least 90% of the variance in the predictors.\n",
    "\n",
    "1. Using the gene data from Problem 1, how many principal components do we need to capture at least 90% of the variance? How much of the variance do they actually capture? Fit a Logistic Regression model using these principal components. How do the classification accuracy values on both the training and tests sets compare with the models fit in question 3.1?  \n",
    "\n",
    "2. Use the code provided in question 3 to visualize the probabilities predicted by the fitted model on both the training and test sets. How does the spread of probabilities in these plots compare to those for the model in question 3.2? If the lower dimensional representation yields comparable predictive power, what advantage does the lower dimensional representation provide?"
   ]
  },
  {
   "cell_type": "markdown",
   "metadata": {},
   "source": [
    "#### Answers:\n",
    "\n",
    "**6.1:** Using the gene data from Problem 1, how many principal components do we need to capture at least 90% of the variance? How much of the variance do they actually capture? Fit a Logistic Regression model using these principal components. How do the classification accuracy values on both the training and tests sets compare with the models fit in question 3.1?  "
   ]
  },
  {
   "cell_type": "code",
   "execution_count": 427,
   "metadata": {
    "jupyter": {
     "outputs_hidden": true
    }
   },
   "outputs": [
    {
     "name": "stdout",
     "output_type": "stream",
     "text": [
      "We need the first 29 components in order to explain 90.2687% of the variance of the data.\n"
     ]
    }
   ],
   "source": [
    "pca = PCA().fit(data_train.drop(columns='Cancer_type'))\n",
    "\n",
    "summation = 0\n",
    "number = 0\n",
    "for i, variance in enumerate(pca.explained_variance_ratio_):\n",
    "    summation += variance\n",
    "    if summation >= 0.9:\n",
    "        number = i + 1\n",
    "        break\n",
    "print(('We need the first {} components in order ' +\n",
    "       'to explain {:.4f}% of the variance of the data.').format(\n",
    "    number,\n",
    "    100*sum(pca.explained_variance_ratio_[:number])\n",
    "))"
   ]
  },
  {
   "cell_type": "code",
   "execution_count": 428,
   "metadata": {},
   "outputs": [
    {
     "name": "stdout",
     "output_type": "stream",
     "text": [
      "Classification accuracy on the training set: 1.0\n",
      "Classification accuracy on the test set: 0.9697\n"
     ]
    }
   ],
   "source": [
    "X_train = pca.transform(data_train.drop(columns='Cancer_type'))[:, :number]\n",
    "y_train = data_train.Cancer_type.to_numpy()\n",
    "X_test = pca.transform(data_test.drop(columns='Cancer_type'))[:, :number]\n",
    "y_test = data_test.Cancer_type.to_numpy()\n",
    "\n",
    "mlr_pca_model = LogisticRegression(C=10000, max_iter=1000).fit(X_train, y_train)\n",
    "\n",
    "missclassification = mlr_pca_model.predict(X_train) != y_train\n",
    "print('Classification accuracy on the training set: {}'.format(1 - missclassification.sum()/len(X_train)))\n",
    "\n",
    "missclassification = mlr_pca_model.predict(X_test) != y_test\n",
    "print('Classification accuracy on the test set: {:.4f}'.format(1 - missclassification.sum()/len(X_test)))"
   ]
  },
  {
   "cell_type": "markdown",
   "metadata": {},
   "source": [
    "----\n",
    "\n",
    "We need the first 29 components to explain 90% of the variance of the training data. The classification accuracy decreases for test data, but it's still good, compared to the those in Question 3.1.\n",
    "\n",
    "----"
   ]
  },
  {
   "cell_type": "markdown",
   "metadata": {},
   "source": [
    "**6.2:** Use the code provided in question 3 to visualize the probabilities predicted by the fitted model on both the training and test sets. How does the spread of probabilities in these plots compare to those for the model in question 3.2? If the <s>lower</s> **higher** dimensional representation yields comparable predictive power, what advantage does the lower dimensional representation provide?"
   ]
  },
  {
   "cell_type": "code",
   "execution_count": 430,
   "metadata": {
    "jupyter": {
     "outputs_hidden": true
    }
   },
   "outputs": [
    {
     "data": {
      "image/png": "[encoded data removed]",
      "text/plain": [
       "<Figure size 432x288 with 1 Axes>"
      ]
     },
     "metadata": {},
     "output_type": "display_data"
    }
   ],
   "source": [
    "fig, ax = plt.subplots()\n",
    "visualize_prob(mlr_pca_model, X_train, y_train, ax)\n",
    "plt.show()"
   ]
  },
  {
   "cell_type": "code",
   "execution_count": 431,
   "metadata": {},
   "outputs": [
    {
     "data": {
      "image/png": "[encoded data removed]",
      "text/plain": [
       "<Figure size 432x288 with 1 Axes>"
      ]
     },
     "metadata": {},
     "output_type": "display_data"
    }
   ],
   "source": [
    "fig, ax = plt.subplots()\n",
    "visualize_prob(mlr_pca_model, X_test, y_test, ax)\n",
    "plt.show()"
   ]
  },
  {
   "cell_type": "markdown",
   "metadata": {},
   "source": [
    "----\n",
    "\n",
    "The difference between these graphs and those from question 3.2 is relative to test data: the last plot is more spread than the first one. Well, it's expected, because the accuracy is less than before.\n",
    "\n",
    "The lower dimensional representation provides less overfitting, collinearity reduction, computational time improvements and visualizations (for 2, 3, 4 dimensions).\n",
    "\n",
    "----"
   ]
  },
  {
   "cell_type": "markdown",
   "metadata": {},
   "source": [
    "\n",
    "## Multiclass Thyroid Classification\n",
    "\n",
    "In this problem, you will build a model for diagnosing disorders in a patient's thyroid gland. Given the results of medical tests on a patient, the task is to classify the patient either as:\n",
    "- *normal* (class 1)\n",
    "- having *hyperthyroidism* (class 2)\n",
    "- or having *hypothyroidism* (class 3). \n",
    "\n",
    "The data set is provided in the file `dataset_hw5_2.csv`. Columns 1-2 contain biomarkers for a patient (predictors):\n",
    "- Biomarker 1: (Logarithm of) level of basal thyroid-stimulating hormone (TSH) as measured by radioimmuno assay\n",
    "- Biomarker 2: (Logarithm of) maximal absolute difference of TSH value after injection of 200 micro grams of thyrotropin-releasing hormone as compared to the basal value.\n",
    "\n",
    "The last column contains the diagnosis for the patient from a medical expert. This data set was obtained from the UCI Machine Learning Repository.\n",
    "\n",
    "Notice that unlike previous exercises, the task at hand is a 3-class classification problem. We will explore the use of different methods for multiclass classification.\n",
    "\n",
    "First task: split the data using the code provided below."
   ]
  },
  {
   "cell_type": "markdown",
   "metadata": {},
   "source": [
    "## Question 7: Fit Classification Models\n",
    "\n",
    "1. Generate a 2D scatter plot of the training set, denoting each class with a different color. Does it appear that the data points can be separated well by a linear classifier?\n",
    "\n",
    "2. Briefly explain the difference between multinomial logistic regression and one-vs-rest (OvR) logistic regression methods for fitting a multiclass classifier (in 2-3 sentences).\n",
    "\n",
    "3. Fit linear classification models on the thyroid data set using both the methods.  You should use $L_2$ regularization in both cases, tuning the regularization parameter using cross-validation.  Is there a difference in the overall classification accuracy of the two methods on the test set?\n",
    "\n",
    "4. Also, compare the training and test accuracies of these models with the following classification methods:\n",
    "    - Multiclass Logistic Regression with quadratic terms \n",
    "    - Linear Discriminant Analysis\n",
    "    - Quadratic Discriminant Analysis\n",
    "    - k-Nearest Neighbors\n",
    " <br>\n",
    "*Note:* you may use either the OvR or multinomial variant for the multiclass logistic regression (with $L_2$ regularization). Do not forget to use cross-validation to choose the regularization parameter, and also the number of neighbors in k-NN. \n",
    "\n",
    "5. Does the inclusion of the polynomial terms in logistic regression yield better test accuracy compared to the model with only linear terms? \n",
    "\n",
    "\n",
    "*Hint:* You may use the `KNeighborsClassifier` class to fit a k-NN classification model."
   ]
  },
  {
   "cell_type": "markdown",
   "metadata": {},
   "source": [
    "#### Answers:\n",
    "\n",
    "**7.0:** First task: split the data using the code provided below. "
   ]
  },
  {
   "cell_type": "code",
   "execution_count": 27,
   "metadata": {
    "collapsed": true,
    "jupyter": {
     "outputs_hidden": true
    }
   },
   "outputs": [],
   "source": [
    "np.random.seed(9001)\n",
    "df = pd.read_csv('data/dataset_hw5_2.csv')\n",
    "msk = np.random.rand(len(df)) < 0.5\n",
    "data_train = df[msk]\n",
    "data_test = df[~msk]"
   ]
  },
  {
   "cell_type": "markdown",
   "metadata": {},
   "source": [
    "**7.1:** Generate a 2D scatter plot of the training set, denoting each class with a different color. Does it appear that the data points can be separated well by a linear classifier?\n"
   ]
  },
  {
   "cell_type": "code",
   "execution_count": 1,
   "metadata": {
    "collapsed": true,
    "jupyter": {
     "outputs_hidden": true
    }
   },
   "outputs": [],
   "source": [
    "# your code here"
   ]
  },
  {
   "cell_type": "markdown",
   "metadata": {},
   "source": [
    "----\n",
    "Your answer here\n",
    "\n",
    "----"
   ]
  },
  {
   "cell_type": "markdown",
   "metadata": {},
   "source": [
    "**7.2:** Briefly explain the difference between multinomial logistic regression and one-vs-rest (OvR) logistic regression methods for fitting a multiclass classifier (in 2-3 sentences).\n"
   ]
  },
  {
   "cell_type": "markdown",
   "metadata": {},
   "source": [
    "----\n",
    "Your answer here\n",
    "\n",
    "----"
   ]
  },
  {
   "cell_type": "markdown",
   "metadata": {},
   "source": [
    "**7.3:** Fit linear classification models on the thyroid data set using both the methods.  You should use $L_2$ regularization in both cases, tuning the regularization parameter using cross-validation.  Is there a difference in the overall classification accuracy of the two methods on the test set?"
   ]
  },
  {
   "cell_type": "code",
   "execution_count": null,
   "metadata": {
    "collapsed": true,
    "jupyter": {
     "outputs_hidden": true
    }
   },
   "outputs": [],
   "source": [
    "# your code here"
   ]
  },
  {
   "cell_type": "markdown",
   "metadata": {},
   "source": [
    "----\n",
    "Your answer here\n",
    "\n",
    "----"
   ]
  },
  {
   "cell_type": "markdown",
   "metadata": {},
   "source": [
    "**7.4:** Also, compare the training and test accuracies of these models with the following classification methods:\n",
    "    - Multiclass Logistic Regression with quadratic terms \n",
    "    - Linear Discriminant Analysis\n",
    "    - Quadratic Discriminant Analysis\n",
    "    - k-Nearest Neighbors\n",
    "\n",
    "*Note:* you may use either the OvR or multinomial variant for the multiclass logistic regression (with $L_2$ regularization). Do not forget to use cross-validation to choose the regularization parameter, and also the number of neighbors in k-NN. \n"
   ]
  },
  {
   "cell_type": "code",
   "execution_count": null,
   "metadata": {
    "collapsed": true,
    "jupyter": {
     "outputs_hidden": true
    }
   },
   "outputs": [],
   "source": [
    "# your code here"
   ]
  },
  {
   "cell_type": "markdown",
   "metadata": {},
   "source": [
    "**7.5:** Does the inclusion of the polynomial terms in logistic regression yield better test accuracy compared to the model with only linear terms? "
   ]
  },
  {
   "cell_type": "markdown",
   "metadata": {},
   "source": [
    "----\n",
    "Your answer here\n",
    "\n",
    "----"
   ]
  },
  {
   "cell_type": "markdown",
   "metadata": {},
   "source": [
    "## Question 8: Visualize Decision Boundaries\n",
    "\n",
    "The following code will allow you to visualize the decision boundaries of a given classification model."
   ]
  },
  {
   "cell_type": "code",
   "execution_count": 32,
   "metadata": {
    "collapsed": true,
    "jupyter": {
     "outputs_hidden": true
    }
   },
   "outputs": [],
   "source": [
    "#--------  plot_decision_boundary\n",
    "# A function that visualizes the data and the decision boundaries\n",
    "# Input: \n",
    "#      x (predictors)\n",
    "#      y (labels)\n",
    "#      model (the classifier you want to visualize)\n",
    "#      title (title for plot)\n",
    "#      ax (a set of axes to plot on)\n",
    "#      poly_degree (highest degree of polynomial terms included in the model; None by default)\n",
    "\n",
    "def plot_decision_boundary(x, y, model, title, ax, poly_degree=None):\n",
    "    # Create mesh\n",
    "    # Interval of points for biomarker 1\n",
    "    min0 = x[:,0].min()\n",
    "    max0 = x[:,0].max()\n",
    "    interval0 = np.arange(min0, max0, (max0-min0)/100)\n",
    "    n0 = np.size(interval0)\n",
    "    \n",
    "    # Interval of points for biomarker 2\n",
    "    min1 = x[:,1].min()\n",
    "    max1 = x[:,1].max()\n",
    "    interval1 = np.arange(min1, max1, (max1-min1)/100)\n",
    "    n1 = np.size(interval1)\n",
    "\n",
    "    # Create mesh grid of points\n",
    "    x1, x2 = np.meshgrid(interval0, interval1)\n",
    "    x1 = x1.reshape(-1,1)\n",
    "    x2 = x2.reshape(-1,1)\n",
    "    xx = np.concatenate((x1, x2), axis=1)\n",
    "\n",
    "    # Predict on mesh of points\n",
    "    # Check if polynomial terms need to be included\n",
    "    if(poly_degree!=None):\n",
    "        # Use PolynomialFeatures to generate polynomial terms\n",
    "        poly = PolynomialFeatures(poly_degree,include_bias = False)\n",
    "        xx_ = poly.fit_transform(xx)\n",
    "        yy = model.predict(xx_) \n",
    "        \n",
    "    else:   \n",
    "        yy = model.predict(xx)\n",
    "        \n",
    "    yy = yy.reshape((n0, n1))\n",
    "\n",
    "    # Plot decision surface\n",
    "    x1 = x1.reshape(n0, n1)\n",
    "    x2 = x2.reshape(n0, n1)\n",
    "    ax.contourf(x1, x2, yy, cmap=plt.cm.coolwarm, alpha=0.8)\n",
    "    \n",
    "    # Plot scatter plot of data\n",
    "    yy = y.reshape(-1,)\n",
    "    ax.scatter(x[yy==1,0], x[yy==1,1], c='blue', label='Normal', cmap=plt.cm.coolwarm)\n",
    "    ax.scatter(x[yy==2,0], x[yy==2,1], c='cyan', label='Hyper', cmap=plt.cm.coolwarm)\n",
    "    ax.scatter(x[yy==3,0], x[yy==3,1], c='red', label='Hypo', cmap=plt.cm.coolwarm)\n",
    "    \n",
    "    # Label axis, title\n",
    "    ax.set_title(title)\n",
    "    ax.set_xlabel('Biomarker 1')\n",
    "    ax.set_ylabel('Biomarker 2')"
   ]
  },
  {
   "cell_type": "markdown",
   "metadata": {},
   "source": [
    "**Note:** The provided code uses `sklearn`'s `PolynomialFeatures` to generate higher-order polynomial terms, with degree `poly_degree`. \n",
    "Also, if you have loaded the data sets into `pandas` data frames, you may use the `as_matrix` function to obtain a `numpy` array from the data frame objects.\n",
    "\n",
    "1. Use the above code to visualize the decision boundaries for each of the model fitted in the previous question.\n",
    "2. Comment on the difference in the decision boundaries (if any) for the OvR and multinomial logistic regression models. Is there a difference between the decision boundaries for the linear logistic regression models and LDA. What about the decision boundaries for the quadratic logistic regression and QDA? Give an explanation for your answer.\n",
    "3. QDA is a generalization of the LDA model. What's the primary difference that makes QDA more general? How does that manifest in the plots you generated?"
   ]
  },
  {
   "cell_type": "markdown",
   "metadata": {},
   "source": [
    "#### Answers:\n",
    "\n",
    "**8.1:** Use the above code to visualize the decision boundaries for each of the model fitted in the previous question."
   ]
  },
  {
   "cell_type": "code",
   "execution_count": null,
   "metadata": {
    "collapsed": true,
    "jupyter": {
     "outputs_hidden": true
    }
   },
   "outputs": [],
   "source": [
    "# your code here"
   ]
  },
  {
   "cell_type": "markdown",
   "metadata": {},
   "source": [
    "**8.2:** Comment on the difference in the decision boundaries (if any) for the OvR and multinomial logistic regression models. Is there a difference between the decision boundaries for the linear logistic regression models and LDA. What about the decision boundaries for the quadratic logistic regression and QDA? Give an explanation for your answer."
   ]
  },
  {
   "cell_type": "markdown",
   "metadata": {},
   "source": [
    "---\n",
    "Your answer here\n",
    "\n",
    "---"
   ]
  },
  {
   "cell_type": "markdown",
   "metadata": {},
   "source": [
    "**8.3:** QDA is a generalization of the LDA model. What's the primary difference that makes QDA more general? How does that manifest in the plots you generated?"
   ]
  },
  {
   "cell_type": "markdown",
   "metadata": {},
   "source": [
    "---\n",
    "Your answer here\n",
    "\n",
    "---"
   ]
  },
  {
   "cell_type": "code",
   "execution_count": null,
   "metadata": {
    "collapsed": true,
    "jupyter": {
     "outputs_hidden": true
    }
   },
   "outputs": [],
   "source": []
  }
 ],
 "metadata": {
  "anaconda-cloud": {},
  "kernelspec": {
   "display_name": "Python 3",
   "language": "python",
   "name": "python3"
  },
  "language_info": {
   "codemirror_mode": {
    "name": "ipython",
    "version": 3
   },
   "file_extension": ".py",
   "mimetype": "text/x-python",
   "name": "python",
   "nbconvert_exporter": "python",
   "pygments_lexer": "ipython3",
   "version": "3.8.3"
  }
 },
 "nbformat": 4,
 "nbformat_minor": 4
}
